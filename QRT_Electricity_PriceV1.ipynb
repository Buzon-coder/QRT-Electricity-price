{
  "nbformat": 4,
  "nbformat_minor": 0,
  "metadata": {
    "colab": {
      "provenance": [],
      "authorship_tag": "ABX9TyNOWeLjkSDtxQ7Edg5NkmUy",
      "include_colab_link": true
    },
    "kernelspec": {
      "name": "python3",
      "display_name": "Python 3"
    },
    "language_info": {
      "name": "python"
    }
  },
  "cells": [
    {
      "cell_type": "markdown",
      "metadata": {
        "id": "view-in-github",
        "colab_type": "text"
      },
      "source": [
        "<a href=\"https://colab.research.google.com/github/Buzon-coder/QRT-Electricity-price/blob/main/QRT_Electricity_PriceV1.ipynb\" target=\"_parent\"><img src=\"https://colab.research.google.com/assets/colab-badge.svg\" alt=\"Open In Colab\"/></a>"
      ]
    },
    {
      "cell_type": "code",
      "execution_count": null,
      "metadata": {
        "id": "wtqjF97c0UGb"
      },
      "outputs": [],
      "source": [
        "#test 2 pour github"
      ]
    },
    {
      "cell_type": "code",
      "source": [
        "#from google.colab import files\n",
        "#uploaded = files.upload()\n",
        "from google.colab import drive\n",
        "drive.mount('/content/drive')\n"
      ],
      "metadata": {
        "colab": {
          "base_uri": "https://localhost:8080/"
        },
        "id": "DnIFcrcm7faz",
        "outputId": "41ed0894-0203-479c-99b0-f13f608febfc"
      },
      "execution_count": null,
      "outputs": [
        {
          "output_type": "stream",
          "name": "stdout",
          "text": [
            "Mounted at /content/drive\n"
          ]
        }
      ]
    },
    {
      "cell_type": "code",
      "source": [
        "import pandas as pd\n",
        "X_train = pd.read_csv(\"X_train_NHkHMNU.csv\")\n",
        "y_train = pd.read_csv(\"y_train_ZAN5mwg.csv\")\n",
        "X_test = pd.read_csv(\"X_test_final.csv\")"
      ],
      "metadata": {
        "id": "2fQ7SJHQ_yjt"
      },
      "execution_count": null,
      "outputs": []
    },
    {
      "cell_type": "code",
      "source": [
        "#print(X_train.head())\n",
        "#print(X_train.shape)\n",
        "#print(X_train.head())\n",
        "#print(X_train.tail())\n",
        "#print(X_train[\"ID\"].nunique())\n",
        "#print(X_train[\"DAY_ID\"].nunique()) #--> ça return 851, donc il y a 851 DAY_ID uniques, donc il y a des jours qui apparaissent plusieurs fois\n",
        "#print(X_train[\"ID\"].isna().sum()) #--> ça return 0 donc tous les ID sont présents\n",
        "#print(X_train['DAY_ID'].isna().sum()) #--> ça return 0 donc tous les jours sont présents\n",
        "#print(X_train[\"COUNTRY\"].nunique())\n",
        "#print(X_train[\"COUNTRY\"].isna().sum()) #--> la colonne COUNTRY est pleine\n",
        "#print(X_train[\"ID\"].min()) # --> ça return 0\n",
        "#print(X_train[\"ID\"].max()) # --> ça return 2146, je comprends pas très bien\n",
        "#print(y_train.tail())\n",
        "#print(y_train['TARGET'].isna().sum())\n",
        "#print(X_test.shape)\n",
        "#print(X_test.head())\n",
        "#print(X_test.tail())\n",
        "#print(X_test[\"ID\"].nunique())\n",
        "#print(X_test[\"DAY_ID\"].min()) #--> ça return 4\n",
        "#print(X_test[\"DAY_ID\"].max()) #--> ça return 1214\n",
        "#print(X_test[\"DAY_ID\"].nunique()) #--> ça return 365, donc il faut prédire\n",
        "#regarder comment faire pour voir s'il y a des jours (DAY_ID) qui apparaissent plus de deux fois\n",
        "\n",
        "#je vais essayer de voir si j'ai des ID et des DAY_ID en commun entre X_TRAIN et X_TEST\n",
        "#print(len(set(X_train[\"ID\"])))\n",
        "common_id = set(X_train[\"ID\"]) & set(X_test[\"ID\"])\n",
        "print(\"Nombre d'ID' en commun entre TRAIN et TEST:\",len(common_id))\n",
        "\n",
        "common_days = set(X_train[\"DAY_ID\"]) & set(X_test[\"DAY_ID\"])\n",
        "print(\"Nombre de jours en commun entre TRAIN et TEST:\",len(common_days))\n",
        "\n",
        "#print(len(set(X_test[\"DAY_ID\"])))\n",
        "#print(len(set(X_test[\"ID\"])))\n",
        "\n",
        "# ==> donc il n'y a aucun jour en commun et aucun ID en commun entre TRAIN et TEST\n",
        "#dans mes données TRAIN, j'ai 1494 ID et 851 jours\n",
        "#dans mes données TEST, j'ai 654 ID et 365 jours\n",
        "\n",
        "#print(max(X_train[\"ID\"].max(), X_test[\"ID\"].max()))\n",
        "#print(X_train[\"ID\"].max())\n",
        "#print(X_test[\"ID\"].max())\n",
        "#print(max(X_train[\"DAY_ID\"].max(), X_test[\"DAY_ID\"].max()))\n",
        "#print(min(X_train[\"DAY_ID\"]))\n",
        "#print(max(X_train[\"DAY_ID\"]))\n",
        "\n",
        "#print(min(X_test[\"DAY_ID\"]))\n",
        "#print(max(X_test[\"DAY_ID\"]))\n",
        "#counts = X_train[\"DAY_ID\"].value_counts()\n",
        "#counts_more_than_2 = counts[counts>2]\n",
        "#print(len(counts_more_than_2))\n",
        "\n",
        "#counts_test = X_test[\"DAY_ID\"].value_counts()\n",
        "#counts_test_more_than_2 = counts_test[counts_test>2]\n",
        "#print(len(counts_test_more_than_2))\n",
        "print(X_test.head())"
      ],
      "metadata": {
        "colab": {
          "base_uri": "https://localhost:8080/"
        },
        "id": "pH5JBPGtAUZ5",
        "outputId": "99afb95c-32b0-40e9-e7c4-f1458155e48a"
      },
      "execution_count": 69,
      "outputs": [
        {
          "output_type": "stream",
          "name": "stdout",
          "text": [
            "Nombre d'ID' en commun entre TRAIN et TEST: 0\n",
            "Nombre de jours en commun entre TRAIN et TEST: 0\n",
            "     ID  DAY_ID COUNTRY  DE_CONSUMPTION  FR_CONSUMPTION  DE_FR_EXCHANGE  \\\n",
            "0  1115     241      FR        0.340083       -0.433604       -0.423521   \n",
            "1  1202    1214      FR        0.803209        0.780411        0.601610   \n",
            "2  1194    1047      FR        0.795540        0.721954        1.179158   \n",
            "3  1084    1139      FR        0.172555       -0.723427       -0.044539   \n",
            "4  1135     842      FR        0.949714        0.420236        0.617391   \n",
            "\n",
            "   FR_DE_EXCHANGE  DE_NET_EXPORT  FR_NET_EXPORT  DE_NET_IMPORT  ...  \\\n",
            "0        0.423521       0.165333       0.519419      -0.165333  ...   \n",
            "1       -0.601610       0.342802       0.555367      -0.342802  ...   \n",
            "2       -1.179158       1.620928       0.666901      -1.620928  ...   \n",
            "3        0.044539            NaN      -0.205276            NaN  ...   \n",
            "4       -0.617391       0.608561      -0.240856      -0.608561  ...   \n",
            "\n",
            "   FR_RESIDUAL_LOAD   DE_RAIN   FR_RAIN   DE_WIND   FR_WIND   DE_TEMP  \\\n",
            "0         -0.222525 -0.513180 -0.182048 -0.982546 -0.876632  0.880491   \n",
            "1          0.857739 -0.340595 -0.301094 -0.759816 -1.221443 -0.616617   \n",
            "2          0.447967  0.796475 -0.367248  0.376055 -0.483363  0.865138   \n",
            "3         -0.561295 -0.542606 -0.013291 -0.791119 -0.894309  0.239153   \n",
            "4          0.503567 -0.230291 -0.609203 -0.744986 -1.196282  0.176557   \n",
            "\n",
            "    FR_TEMP   GAS_RET  COAL_RET  CARBON_RET  \n",
            "0  0.692242  0.569419 -0.029697   -0.929256  \n",
            "1 -0.737496  0.251251  0.753646    0.664086  \n",
            "2  0.120079 -1.485642 -0.326450   -0.349747  \n",
            "3  0.457457 -0.746863  2.262654    0.642069  \n",
            "4  0.312557 -2.219626 -0.509272   -0.488341  \n",
            "\n",
            "[5 rows x 35 columns]\n"
          ]
        }
      ]
    },
    {
      "cell_type": "markdown",
      "source": [
        "Donc il n'y a aucun jour en commun et aucun ID en commun entre TRAIN et TEST.\n",
        "Dans mes données TRAIN, j'ai 1494 ID et 851 jours\n",
        "Dans mes données TEST, j'ai 654 ID et 365 jours\n",
        "J'ai donc un total de 2148 ID et 1216 jours.\n",
        "C'est bien ce que je trouve lorsque je regarde l'ID max (je trouve 2147) et le DAY_ID max (je trouve 1215).\n",
        "Les jours de mes données d'entraînement s'étalent de DAY_ID = 0 à DAY_ID = 1215, et les jours de mes données test s'étalent de DAY_ID = 4 à DAY_ID = 1214.\n",
        "Donc l'objectif n'est pas de prédire les valeurs des futures (variation journalière du prix de contrats à terme sur l'électricité) dans le futur, mais en fonction des données météorologiques, énergétiques, ...\n",
        "\n",
        "Aucun jour(=DAY_ID) dans X_train ou dans X_test n'apparaît plus de deux fois, donc dans mes données TRAIN, j'ai 643 jours qui apparaissent 2 fois, et 208 jours qui n'apparaissent qu'une fois, et dans mes données TEST, j'ai 289 jours qui apparaissent 2 fois, et 76 jours qui n'apparaissent qu'une fois."
      ],
      "metadata": {
        "id": "IyjmxDHOECz8"
      }
    },
    {
      "cell_type": "code",
      "source": [
        "# je trie X_train et y_train\n",
        "\n",
        "X_train = X_train.sort_values([\"DAY_ID\", \"COUNTRY\"]).reset_index(drop=True)\n",
        "y_train = y_train.set_index(\"ID\").loc[X_train[\"ID\"]].reset_index()\n",
        "print(y_train[\"ID\"])\n",
        "print(X_train[\"ID\"])\n",
        "#y_train = y_train.sort_values([\"DAY_ID\", \"COUNTRY\"]).reset_index(drop=True)\n",
        "\n",
        "#print(X_train.head())"
      ],
      "metadata": {
        "id": "AuciY4HuAWht",
        "colab": {
          "base_uri": "https://localhost:8080/"
        },
        "outputId": "e9434c8d-9a14-41a5-f60c-49c2ddcfadc9"
      },
      "execution_count": 79,
      "outputs": [
        {
          "output_type": "stream",
          "name": "stdout",
          "text": [
            "0       1057\n",
            "1       1179\n",
            "2        111\n",
            "3       1327\n",
            "4        800\n",
            "        ... \n",
            "1489     771\n",
            "1490    1987\n",
            "1491     472\n",
            "1492    1688\n",
            "1493    1049\n",
            "Name: ID, Length: 1494, dtype: int64\n",
            "0       1057\n",
            "1       1179\n",
            "2        111\n",
            "3       1327\n",
            "4        800\n",
            "        ... \n",
            "1489     771\n",
            "1490    1987\n",
            "1491     472\n",
            "1492    1688\n",
            "1493    1049\n",
            "Name: ID, Length: 1494, dtype: int64\n"
          ]
        }
      ]
    },
    {
      "cell_type": "code",
      "source": [],
      "metadata": {
        "id": "GjGnMXAXQ1yr"
      },
      "execution_count": null,
      "outputs": []
    }
  ]
}