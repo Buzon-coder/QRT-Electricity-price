{
  "nbformat": 4,
  "nbformat_minor": 0,
  "metadata": {
    "colab": {
      "provenance": [],
      "authorship_tag": "ABX9TyPZUKrBQgzKVl9xtMw7yqmQ",
      "include_colab_link": true
    },
    "kernelspec": {
      "name": "python3",
      "display_name": "Python 3"
    },
    "language_info": {
      "name": "python"
    }
  },
  "cells": [
    {
      "cell_type": "markdown",
      "metadata": {
        "id": "view-in-github",
        "colab_type": "text"
      },
      "source": [
        "<a href=\"https://colab.research.google.com/github/Buzon-coder/QRT-Electricity-price/blob/main/QRT_Electricity_PriceV3.ipynb\" target=\"_parent\"><img src=\"https://colab.research.google.com/assets/colab-badge.svg\" alt=\"Open In Colab\"/></a>"
      ]
    },
    {
      "cell_type": "code",
      "execution_count": 100,
      "metadata": {
        "id": "wtqjF97c0UGb"
      },
      "outputs": [],
      "source": [
        "#test 2 pour github"
      ]
    },
    {
      "cell_type": "code",
      "source": [
        "#from google.colab import files\n",
        "#uploaded = files.upload()\n",
        "from google.colab import drive\n",
        "drive.mount('/content/drive')\n"
      ],
      "metadata": {
        "colab": {
          "base_uri": "https://localhost:8080/"
        },
        "id": "DnIFcrcm7faz",
        "outputId": "40de7f85-19e3-4b3e-aea9-9709050efc12"
      },
      "execution_count": 101,
      "outputs": [
        {
          "output_type": "stream",
          "name": "stdout",
          "text": [
            "Drive already mounted at /content/drive; to attempt to forcibly remount, call drive.mount(\"/content/drive\", force_remount=True).\n"
          ]
        }
      ]
    },
    {
      "cell_type": "code",
      "source": [
        "import pandas as pd\n",
        "import matplotlib.pyplot as plt\n",
        "from scipy.stats import spearmanr, pearsonr"
      ],
      "metadata": {
        "id": "7S6HSmhXLfXi"
      },
      "execution_count": 102,
      "outputs": []
    },
    {
      "cell_type": "code",
      "source": [
        "X_test = pd.read_csv(\"/content/drive/MyDrive/Colab data/X_test_final.csv\")\n",
        "X_train = pd.read_csv(\"/content/drive/MyDrive/Colab data/X_train_NHkHMNU.csv\")\n",
        "y_train = pd.read_csv(\"/content/drive/MyDrive/Colab data/y_train_ZAN5mwg.csv\")\n",
        "#X_train = pd.read_csv(\"X_train_NHkHMNU.csv\")\n",
        "#y_train = pd.read_csv(\"y_train_ZAN5mwg.csv\")\n",
        "#X_test = pd.read_csv(\"X_test_final.csv\")"
      ],
      "metadata": {
        "id": "2fQ7SJHQ_yjt"
      },
      "execution_count": 103,
      "outputs": []
    },
    {
      "cell_type": "code",
      "source": [
        "#print(X_train.head())\n",
        "#print(X_train.shape)\n",
        "#print(X_train.head())\n",
        "#print(X_train.tail())\n",
        "#print(X_train[\"ID\"].nunique())\n",
        "#print(X_train[\"DAY_ID\"].nunique()) #--> ça return 851, donc il y a 851 DAY_ID uniques, donc il y a des jours qui apparaissent plusieurs fois\n",
        "#print(X_train[\"ID\"].isna().sum()) #--> ça return 0 donc tous les ID sont présents\n",
        "#print(X_train['DAY_ID'].isna().sum()) #--> ça return 0 donc tous les jours sont présents\n",
        "#print(X_train[\"COUNTRY\"].nunique())\n",
        "#print(X_train[\"COUNTRY\"].isna().sum()) #--> la colonne COUNTRY est pleine\n",
        "#print(X_train[\"ID\"].min()) # --> ça return 0\n",
        "#print(X_train[\"ID\"].max()) # --> ça return 2146, je comprends pas très bien\n",
        "#print(y_train.tail())\n",
        "#print(y_train['TARGET'].isna().sum())\n",
        "#print(X_test.shape)\n",
        "#print(X_test.head())\n",
        "#print(X_test.tail())\n",
        "#print(X_test[\"ID\"].nunique())\n",
        "#print(X_test[\"DAY_ID\"].min()) #--> ça return 4\n",
        "#print(X_test[\"DAY_ID\"].max()) #--> ça return 1214\n",
        "#print(X_test[\"DAY_ID\"].nunique()) #--> ça return 365, donc il faut prédire\n",
        "#regarder comment faire pour voir s'il y a des jours (DAY_ID) qui apparaissent plus de deux fois\n",
        "\n",
        "#je vais essayer de voir si j'ai des ID et des DAY_ID en commun entre X_TRAIN et X_TEST\n",
        "#print(len(set(X_train[\"ID\"])))\n",
        "common_id = set(X_train[\"ID\"]) & set(X_test[\"ID\"])\n",
        "print(\"Nombre d'ID' en commun entre TRAIN et TEST:\",len(common_id))\n",
        "\n",
        "common_days = set(X_train[\"DAY_ID\"]) & set(X_test[\"DAY_ID\"])\n",
        "print(\"Nombre de jours en commun entre TRAIN et TEST:\",len(common_days))\n",
        "\n",
        "#print(len(set(X_test[\"DAY_ID\"])))\n",
        "#print(len(set(X_test[\"ID\"])))\n",
        "\n",
        "# ==> donc il n'y a aucun jour en commun et aucun ID en commun entre TRAIN et TEST\n",
        "#dans mes données TRAIN, j'ai 1494 ID et 851 jours\n",
        "#dans mes données TEST, j'ai 654 ID et 365 jours\n",
        "\n",
        "#print(max(X_train[\"ID\"].max(), X_test[\"ID\"].max()))\n",
        "#print(X_train[\"ID\"].max())\n",
        "#print(X_test[\"ID\"].max())\n",
        "#print(max(X_train[\"DAY_ID\"].max(), X_test[\"DAY_ID\"].max()))\n",
        "#print(min(X_train[\"DAY_ID\"]))\n",
        "#print(max(X_train[\"DAY_ID\"]))\n",
        "\n",
        "#print(min(X_test[\"DAY_ID\"]))\n",
        "#print(max(X_test[\"DAY_ID\"]))\n",
        "#counts = X_train[\"DAY_ID\"].value_counts()\n",
        "#counts_more_than_2 = counts[counts>2]\n",
        "#print(len(counts_more_than_2))\n",
        "\n",
        "#counts_test = X_test[\"DAY_ID\"].value_counts()\n",
        "#counts_test_more_than_2 = counts_test[counts_test>2]\n",
        "#print(len(counts_test_more_than_2))\n",
        "print(X_test.head())"
      ],
      "metadata": {
        "id": "pH5JBPGtAUZ5",
        "colab": {
          "base_uri": "https://localhost:8080/"
        },
        "outputId": "0a0de288-22d8-4a8a-a16f-e6123d058298"
      },
      "execution_count": 104,
      "outputs": [
        {
          "output_type": "stream",
          "name": "stdout",
          "text": [
            "Nombre d'ID' en commun entre TRAIN et TEST: 0\n",
            "Nombre de jours en commun entre TRAIN et TEST: 0\n",
            "     ID  DAY_ID COUNTRY  DE_CONSUMPTION  FR_CONSUMPTION  DE_FR_EXCHANGE  \\\n",
            "0  1115     241      FR        0.340083       -0.433604       -0.423521   \n",
            "1  1202    1214      FR        0.803209        0.780411        0.601610   \n",
            "2  1194    1047      FR        0.795540        0.721954        1.179158   \n",
            "3  1084    1139      FR        0.172555       -0.723427       -0.044539   \n",
            "4  1135     842      FR        0.949714        0.420236        0.617391   \n",
            "\n",
            "   FR_DE_EXCHANGE  DE_NET_EXPORT  FR_NET_EXPORT  DE_NET_IMPORT  ...  \\\n",
            "0        0.423521       0.165333       0.519419      -0.165333  ...   \n",
            "1       -0.601610       0.342802       0.555367      -0.342802  ...   \n",
            "2       -1.179158       1.620928       0.666901      -1.620928  ...   \n",
            "3        0.044539            NaN      -0.205276            NaN  ...   \n",
            "4       -0.617391       0.608561      -0.240856      -0.608561  ...   \n",
            "\n",
            "   FR_RESIDUAL_LOAD   DE_RAIN   FR_RAIN   DE_WIND   FR_WIND   DE_TEMP  \\\n",
            "0         -0.222525 -0.513180 -0.182048 -0.982546 -0.876632  0.880491   \n",
            "1          0.857739 -0.340595 -0.301094 -0.759816 -1.221443 -0.616617   \n",
            "2          0.447967  0.796475 -0.367248  0.376055 -0.483363  0.865138   \n",
            "3         -0.561295 -0.542606 -0.013291 -0.791119 -0.894309  0.239153   \n",
            "4          0.503567 -0.230291 -0.609203 -0.744986 -1.196282  0.176557   \n",
            "\n",
            "    FR_TEMP   GAS_RET  COAL_RET  CARBON_RET  \n",
            "0  0.692242  0.569419 -0.029697   -0.929256  \n",
            "1 -0.737496  0.251251  0.753646    0.664086  \n",
            "2  0.120079 -1.485642 -0.326450   -0.349747  \n",
            "3  0.457457 -0.746863  2.262654    0.642069  \n",
            "4  0.312557 -2.219626 -0.509272   -0.488341  \n",
            "\n",
            "[5 rows x 35 columns]\n"
          ]
        }
      ]
    },
    {
      "cell_type": "markdown",
      "source": [
        "Donc il n'y a aucun jour en commun et aucun ID en commun entre TRAIN et TEST.\n",
        "Dans mes données TRAIN, j'ai 1494 ID et 851 jours\n",
        "Dans mes données TEST, j'ai 654 ID et 365 jours\n",
        "J'ai donc un total de 2148 ID et 1216 jours.\n",
        "C'est bien ce que je trouve lorsque je regarde l'ID max (je trouve 2147) et le DAY_ID max (je trouve 1215).\n",
        "Les jours de mes données d'entraînement s'étalent de DAY_ID = 0 à DAY_ID = 1215, et les jours de mes données test s'étalent de DAY_ID = 4 à DAY_ID = 1214.\n",
        "Donc l'objectif n'est pas de prédire les valeurs des futures (variation journalière du prix de contrats à terme sur l'électricité) dans le futur, mais en fonction des données météorologiques, énergétiques, ...\n",
        "\n",
        "Aucun jour(=DAY_ID) dans X_train ou dans X_test n'apparaît plus de deux fois, donc dans mes données TRAIN, j'ai 643 jours qui apparaissent 2 fois, et 208 jours qui n'apparaissent qu'une fois, et dans mes données TEST, j'ai 289 jours qui apparaissent 2 fois, et 76 jours qui n'apparaissent qu'une fois."
      ],
      "metadata": {
        "id": "IyjmxDHOECz8"
      }
    },
    {
      "cell_type": "code",
      "source": [
        "# je trie X_train par DAY_ID croissant (donc par dates) et j'aligne les ID de y_train avec ceux de DAY_ID\n",
        "\n",
        "X_train = X_train.sort_values([\"DAY_ID\", \"COUNTRY\"]).reset_index(drop=True)\n",
        "y_train = y_train.set_index(\"ID\").loc[X_train[\"ID\"]].reset_index()\n",
        "assert all(X_train[\"ID\"].values == y_train[\"ID\"].values)\n",
        "print(\"Les ID sont bien alignés avec X_train\")\n",
        "#print(y_train[\"ID\"])\n",
        "#print(X_train[\"ID\"])\n",
        "#y_train = y_train.sort_values([\"DAY_ID\", \"COUNTRY\"]).reset_index(drop=True)\n",
        "\n",
        "#print(X_train.head())"
      ],
      "metadata": {
        "id": "AuciY4HuAWht",
        "colab": {
          "base_uri": "https://localhost:8080/"
        },
        "outputId": "584bb1b6-256c-4695-c43b-edd59733b652"
      },
      "execution_count": 105,
      "outputs": [
        {
          "output_type": "stream",
          "name": "stdout",
          "text": [
            "Les ID sont bien alignés avec X_train\n"
          ]
        }
      ]
    },
    {
      "cell_type": "markdown",
      "source": [
        "Analyse exploratoire"
      ],
      "metadata": {
        "id": "eU3YFTzwYEiW"
      }
    },
    {
      "cell_type": "code",
      "source": [
        "X_train.describe()\n",
        "#y_train.describe()\n",
        "#X_train.corrwith(y_train[\"TARGET\"]).sort_values(ascending=False)"
      ],
      "metadata": {
        "id": "GjGnMXAXQ1yr",
        "colab": {
          "base_uri": "https://localhost:8080/",
          "height": 349
        },
        "outputId": "17fe965a-a2cf-4ba0-ead2-150d458beebd"
      },
      "execution_count": 106,
      "outputs": [
        {
          "output_type": "execute_result",
          "data": {
            "text/plain": [
              "                ID       DAY_ID  DE_CONSUMPTION  FR_CONSUMPTION  \\\n",
              "count  1494.000000  1494.000000     1494.000000     1494.000000   \n",
              "mean   1072.759036   591.861446        0.427442       -0.020032   \n",
              "std     618.013179   345.065043        0.673412        0.918995   \n",
              "min       0.000000     0.000000       -2.265563       -1.462350   \n",
              "25%     540.250000   292.250000       -0.037421       -0.716771   \n",
              "50%    1077.500000   591.000000        0.357061       -0.394166   \n",
              "75%    1597.500000   885.750000        0.922057        0.650533   \n",
              "max    2146.000000  1215.000000        2.033851        3.300640   \n",
              "\n",
              "       DE_FR_EXCHANGE  FR_DE_EXCHANGE  DE_NET_EXPORT  FR_NET_EXPORT  \\\n",
              "count     1469.000000     1469.000000    1370.000000    1424.000000   \n",
              "mean        -0.145508        0.145508      -0.256332      -0.072643   \n",
              "std          0.970226        0.970226       0.957443       1.075830   \n",
              "min         -2.856874       -2.634831      -2.464849      -2.825331   \n",
              "25%         -0.875213       -0.638867      -0.977214      -0.851500   \n",
              "50%         -0.164287        0.164287      -0.306899       0.099455   \n",
              "75%          0.638867        0.875213       0.452252       0.794843   \n",
              "max          2.634831        2.856874       2.279619       1.951516   \n",
              "\n",
              "       DE_NET_IMPORT  FR_NET_IMPORT  ...  FR_RESIDUAL_LOAD      DE_RAIN  \\\n",
              "count    1370.000000    1424.000000  ...       1494.000000  1400.000000   \n",
              "mean        0.256332       0.072643  ...         -0.153688    -0.037831   \n",
              "std         0.957443       1.075830  ...          0.896325     0.984233   \n",
              "min        -2.279619      -1.951516  ...         -1.678936    -2.128531   \n",
              "25%        -0.452252      -0.794843  ...         -0.802333    -0.642117   \n",
              "50%         0.306899      -0.099455  ...         -0.460160    -0.274901   \n",
              "75%         0.977214       0.851500  ...          0.382191     0.335237   \n",
              "max         2.464849       2.825331  ...          2.918326     7.756118   \n",
              "\n",
              "           FR_RAIN      DE_WIND      FR_WIND      DE_TEMP      FR_TEMP  \\\n",
              "count  1400.000000  1400.000000  1400.000000  1400.000000  1400.000000   \n",
              "mean      0.019357     0.109480     0.123099     0.009451     0.008404   \n",
              "std       1.051781     1.056243     1.054692     0.972394     1.003356   \n",
              "min      -1.726420    -1.880419    -1.895319    -4.549638    -5.787097   \n",
              "25%      -0.503927    -0.652135    -0.672614    -0.618259    -0.647948   \n",
              "50%      -0.228147    -0.261571    -0.229031    -0.026306    -0.020889   \n",
              "75%       0.154351     0.635050     0.824781     0.651832     0.699131   \n",
              "max       9.473201     5.085624     4.965028     2.858758     2.817239   \n",
              "\n",
              "           GAS_RET     COAL_RET   CARBON_RET  \n",
              "count  1494.000000  1494.000000  1494.000000  \n",
              "mean      0.058126     0.061724     0.080510  \n",
              "std       1.097768     1.033853     1.098624  \n",
              "min      -5.349463    -5.706442    -4.281790  \n",
              "25%      -0.624238    -0.458038    -0.522968  \n",
              "50%       0.008493     0.063312     0.054056  \n",
              "75%       0.676415     0.641446     0.599094  \n",
              "max       5.674778     3.746576     5.471818  \n",
              "\n",
              "[8 rows x 34 columns]"
            ],
            "text/html": [
              "\n",
              "  <div id=\"df-721c3074-48ee-443e-b9ee-60f294cee91b\" class=\"colab-df-container\">\n",
              "    <div>\n",
              "<style scoped>\n",
              "    .dataframe tbody tr th:only-of-type {\n",
              "        vertical-align: middle;\n",
              "    }\n",
              "\n",
              "    .dataframe tbody tr th {\n",
              "        vertical-align: top;\n",
              "    }\n",
              "\n",
              "    .dataframe thead th {\n",
              "        text-align: right;\n",
              "    }\n",
              "</style>\n",
              "<table border=\"1\" class=\"dataframe\">\n",
              "  <thead>\n",
              "    <tr style=\"text-align: right;\">\n",
              "      <th></th>\n",
              "      <th>ID</th>\n",
              "      <th>DAY_ID</th>\n",
              "      <th>DE_CONSUMPTION</th>\n",
              "      <th>FR_CONSUMPTION</th>\n",
              "      <th>DE_FR_EXCHANGE</th>\n",
              "      <th>FR_DE_EXCHANGE</th>\n",
              "      <th>DE_NET_EXPORT</th>\n",
              "      <th>FR_NET_EXPORT</th>\n",
              "      <th>DE_NET_IMPORT</th>\n",
              "      <th>FR_NET_IMPORT</th>\n",
              "      <th>...</th>\n",
              "      <th>FR_RESIDUAL_LOAD</th>\n",
              "      <th>DE_RAIN</th>\n",
              "      <th>FR_RAIN</th>\n",
              "      <th>DE_WIND</th>\n",
              "      <th>FR_WIND</th>\n",
              "      <th>DE_TEMP</th>\n",
              "      <th>FR_TEMP</th>\n",
              "      <th>GAS_RET</th>\n",
              "      <th>COAL_RET</th>\n",
              "      <th>CARBON_RET</th>\n",
              "    </tr>\n",
              "  </thead>\n",
              "  <tbody>\n",
              "    <tr>\n",
              "      <th>count</th>\n",
              "      <td>1494.000000</td>\n",
              "      <td>1494.000000</td>\n",
              "      <td>1494.000000</td>\n",
              "      <td>1494.000000</td>\n",
              "      <td>1469.000000</td>\n",
              "      <td>1469.000000</td>\n",
              "      <td>1370.000000</td>\n",
              "      <td>1424.000000</td>\n",
              "      <td>1370.000000</td>\n",
              "      <td>1424.000000</td>\n",
              "      <td>...</td>\n",
              "      <td>1494.000000</td>\n",
              "      <td>1400.000000</td>\n",
              "      <td>1400.000000</td>\n",
              "      <td>1400.000000</td>\n",
              "      <td>1400.000000</td>\n",
              "      <td>1400.000000</td>\n",
              "      <td>1400.000000</td>\n",
              "      <td>1494.000000</td>\n",
              "      <td>1494.000000</td>\n",
              "      <td>1494.000000</td>\n",
              "    </tr>\n",
              "    <tr>\n",
              "      <th>mean</th>\n",
              "      <td>1072.759036</td>\n",
              "      <td>591.861446</td>\n",
              "      <td>0.427442</td>\n",
              "      <td>-0.020032</td>\n",
              "      <td>-0.145508</td>\n",
              "      <td>0.145508</td>\n",
              "      <td>-0.256332</td>\n",
              "      <td>-0.072643</td>\n",
              "      <td>0.256332</td>\n",
              "      <td>0.072643</td>\n",
              "      <td>...</td>\n",
              "      <td>-0.153688</td>\n",
              "      <td>-0.037831</td>\n",
              "      <td>0.019357</td>\n",
              "      <td>0.109480</td>\n",
              "      <td>0.123099</td>\n",
              "      <td>0.009451</td>\n",
              "      <td>0.008404</td>\n",
              "      <td>0.058126</td>\n",
              "      <td>0.061724</td>\n",
              "      <td>0.080510</td>\n",
              "    </tr>\n",
              "    <tr>\n",
              "      <th>std</th>\n",
              "      <td>618.013179</td>\n",
              "      <td>345.065043</td>\n",
              "      <td>0.673412</td>\n",
              "      <td>0.918995</td>\n",
              "      <td>0.970226</td>\n",
              "      <td>0.970226</td>\n",
              "      <td>0.957443</td>\n",
              "      <td>1.075830</td>\n",
              "      <td>0.957443</td>\n",
              "      <td>1.075830</td>\n",
              "      <td>...</td>\n",
              "      <td>0.896325</td>\n",
              "      <td>0.984233</td>\n",
              "      <td>1.051781</td>\n",
              "      <td>1.056243</td>\n",
              "      <td>1.054692</td>\n",
              "      <td>0.972394</td>\n",
              "      <td>1.003356</td>\n",
              "      <td>1.097768</td>\n",
              "      <td>1.033853</td>\n",
              "      <td>1.098624</td>\n",
              "    </tr>\n",
              "    <tr>\n",
              "      <th>min</th>\n",
              "      <td>0.000000</td>\n",
              "      <td>0.000000</td>\n",
              "      <td>-2.265563</td>\n",
              "      <td>-1.462350</td>\n",
              "      <td>-2.856874</td>\n",
              "      <td>-2.634831</td>\n",
              "      <td>-2.464849</td>\n",
              "      <td>-2.825331</td>\n",
              "      <td>-2.279619</td>\n",
              "      <td>-1.951516</td>\n",
              "      <td>...</td>\n",
              "      <td>-1.678936</td>\n",
              "      <td>-2.128531</td>\n",
              "      <td>-1.726420</td>\n",
              "      <td>-1.880419</td>\n",
              "      <td>-1.895319</td>\n",
              "      <td>-4.549638</td>\n",
              "      <td>-5.787097</td>\n",
              "      <td>-5.349463</td>\n",
              "      <td>-5.706442</td>\n",
              "      <td>-4.281790</td>\n",
              "    </tr>\n",
              "    <tr>\n",
              "      <th>25%</th>\n",
              "      <td>540.250000</td>\n",
              "      <td>292.250000</td>\n",
              "      <td>-0.037421</td>\n",
              "      <td>-0.716771</td>\n",
              "      <td>-0.875213</td>\n",
              "      <td>-0.638867</td>\n",
              "      <td>-0.977214</td>\n",
              "      <td>-0.851500</td>\n",
              "      <td>-0.452252</td>\n",
              "      <td>-0.794843</td>\n",
              "      <td>...</td>\n",
              "      <td>-0.802333</td>\n",
              "      <td>-0.642117</td>\n",
              "      <td>-0.503927</td>\n",
              "      <td>-0.652135</td>\n",
              "      <td>-0.672614</td>\n",
              "      <td>-0.618259</td>\n",
              "      <td>-0.647948</td>\n",
              "      <td>-0.624238</td>\n",
              "      <td>-0.458038</td>\n",
              "      <td>-0.522968</td>\n",
              "    </tr>\n",
              "    <tr>\n",
              "      <th>50%</th>\n",
              "      <td>1077.500000</td>\n",
              "      <td>591.000000</td>\n",
              "      <td>0.357061</td>\n",
              "      <td>-0.394166</td>\n",
              "      <td>-0.164287</td>\n",
              "      <td>0.164287</td>\n",
              "      <td>-0.306899</td>\n",
              "      <td>0.099455</td>\n",
              "      <td>0.306899</td>\n",
              "      <td>-0.099455</td>\n",
              "      <td>...</td>\n",
              "      <td>-0.460160</td>\n",
              "      <td>-0.274901</td>\n",
              "      <td>-0.228147</td>\n",
              "      <td>-0.261571</td>\n",
              "      <td>-0.229031</td>\n",
              "      <td>-0.026306</td>\n",
              "      <td>-0.020889</td>\n",
              "      <td>0.008493</td>\n",
              "      <td>0.063312</td>\n",
              "      <td>0.054056</td>\n",
              "    </tr>\n",
              "    <tr>\n",
              "      <th>75%</th>\n",
              "      <td>1597.500000</td>\n",
              "      <td>885.750000</td>\n",
              "      <td>0.922057</td>\n",
              "      <td>0.650533</td>\n",
              "      <td>0.638867</td>\n",
              "      <td>0.875213</td>\n",
              "      <td>0.452252</td>\n",
              "      <td>0.794843</td>\n",
              "      <td>0.977214</td>\n",
              "      <td>0.851500</td>\n",
              "      <td>...</td>\n",
              "      <td>0.382191</td>\n",
              "      <td>0.335237</td>\n",
              "      <td>0.154351</td>\n",
              "      <td>0.635050</td>\n",
              "      <td>0.824781</td>\n",
              "      <td>0.651832</td>\n",
              "      <td>0.699131</td>\n",
              "      <td>0.676415</td>\n",
              "      <td>0.641446</td>\n",
              "      <td>0.599094</td>\n",
              "    </tr>\n",
              "    <tr>\n",
              "      <th>max</th>\n",
              "      <td>2146.000000</td>\n",
              "      <td>1215.000000</td>\n",
              "      <td>2.033851</td>\n",
              "      <td>3.300640</td>\n",
              "      <td>2.634831</td>\n",
              "      <td>2.856874</td>\n",
              "      <td>2.279619</td>\n",
              "      <td>1.951516</td>\n",
              "      <td>2.464849</td>\n",
              "      <td>2.825331</td>\n",
              "      <td>...</td>\n",
              "      <td>2.918326</td>\n",
              "      <td>7.756118</td>\n",
              "      <td>9.473201</td>\n",
              "      <td>5.085624</td>\n",
              "      <td>4.965028</td>\n",
              "      <td>2.858758</td>\n",
              "      <td>2.817239</td>\n",
              "      <td>5.674778</td>\n",
              "      <td>3.746576</td>\n",
              "      <td>5.471818</td>\n",
              "    </tr>\n",
              "  </tbody>\n",
              "</table>\n",
              "<p>8 rows × 34 columns</p>\n",
              "</div>\n",
              "    <div class=\"colab-df-buttons\">\n",
              "\n",
              "  <div class=\"colab-df-container\">\n",
              "    <button class=\"colab-df-convert\" onclick=\"convertToInteractive('df-721c3074-48ee-443e-b9ee-60f294cee91b')\"\n",
              "            title=\"Convert this dataframe to an interactive table.\"\n",
              "            style=\"display:none;\">\n",
              "\n",
              "  <svg xmlns=\"http://www.w3.org/2000/svg\" height=\"24px\" viewBox=\"0 -960 960 960\">\n",
              "    <path d=\"M120-120v-720h720v720H120Zm60-500h600v-160H180v160Zm220 220h160v-160H400v160Zm0 220h160v-160H400v160ZM180-400h160v-160H180v160Zm440 0h160v-160H620v160ZM180-180h160v-160H180v160Zm440 0h160v-160H620v160Z\"/>\n",
              "  </svg>\n",
              "    </button>\n",
              "\n",
              "  <style>\n",
              "    .colab-df-container {\n",
              "      display:flex;\n",
              "      gap: 12px;\n",
              "    }\n",
              "\n",
              "    .colab-df-convert {\n",
              "      background-color: #E8F0FE;\n",
              "      border: none;\n",
              "      border-radius: 50%;\n",
              "      cursor: pointer;\n",
              "      display: none;\n",
              "      fill: #1967D2;\n",
              "      height: 32px;\n",
              "      padding: 0 0 0 0;\n",
              "      width: 32px;\n",
              "    }\n",
              "\n",
              "    .colab-df-convert:hover {\n",
              "      background-color: #E2EBFA;\n",
              "      box-shadow: 0px 1px 2px rgba(60, 64, 67, 0.3), 0px 1px 3px 1px rgba(60, 64, 67, 0.15);\n",
              "      fill: #174EA6;\n",
              "    }\n",
              "\n",
              "    .colab-df-buttons div {\n",
              "      margin-bottom: 4px;\n",
              "    }\n",
              "\n",
              "    [theme=dark] .colab-df-convert {\n",
              "      background-color: #3B4455;\n",
              "      fill: #D2E3FC;\n",
              "    }\n",
              "\n",
              "    [theme=dark] .colab-df-convert:hover {\n",
              "      background-color: #434B5C;\n",
              "      box-shadow: 0px 1px 3px 1px rgba(0, 0, 0, 0.15);\n",
              "      filter: drop-shadow(0px 1px 2px rgba(0, 0, 0, 0.3));\n",
              "      fill: #FFFFFF;\n",
              "    }\n",
              "  </style>\n",
              "\n",
              "    <script>\n",
              "      const buttonEl =\n",
              "        document.querySelector('#df-721c3074-48ee-443e-b9ee-60f294cee91b button.colab-df-convert');\n",
              "      buttonEl.style.display =\n",
              "        google.colab.kernel.accessAllowed ? 'block' : 'none';\n",
              "\n",
              "      async function convertToInteractive(key) {\n",
              "        const element = document.querySelector('#df-721c3074-48ee-443e-b9ee-60f294cee91b');\n",
              "        const dataTable =\n",
              "          await google.colab.kernel.invokeFunction('convertToInteractive',\n",
              "                                                    [key], {});\n",
              "        if (!dataTable) return;\n",
              "\n",
              "        const docLinkHtml = 'Like what you see? Visit the ' +\n",
              "          '<a target=\"_blank\" href=https://colab.research.google.com/notebooks/data_table.ipynb>data table notebook</a>'\n",
              "          + ' to learn more about interactive tables.';\n",
              "        element.innerHTML = '';\n",
              "        dataTable['output_type'] = 'display_data';\n",
              "        await google.colab.output.renderOutput(dataTable, element);\n",
              "        const docLink = document.createElement('div');\n",
              "        docLink.innerHTML = docLinkHtml;\n",
              "        element.appendChild(docLink);\n",
              "      }\n",
              "    </script>\n",
              "  </div>\n",
              "\n",
              "\n",
              "    <div id=\"df-44e40a33-a8bd-4328-af60-dead709d8eda\">\n",
              "      <button class=\"colab-df-quickchart\" onclick=\"quickchart('df-44e40a33-a8bd-4328-af60-dead709d8eda')\"\n",
              "                title=\"Suggest charts\"\n",
              "                style=\"display:none;\">\n",
              "\n",
              "<svg xmlns=\"http://www.w3.org/2000/svg\" height=\"24px\"viewBox=\"0 0 24 24\"\n",
              "     width=\"24px\">\n",
              "    <g>\n",
              "        <path d=\"M19 3H5c-1.1 0-2 .9-2 2v14c0 1.1.9 2 2 2h14c1.1 0 2-.9 2-2V5c0-1.1-.9-2-2-2zM9 17H7v-7h2v7zm4 0h-2V7h2v10zm4 0h-2v-4h2v4z\"/>\n",
              "    </g>\n",
              "</svg>\n",
              "      </button>\n",
              "\n",
              "<style>\n",
              "  .colab-df-quickchart {\n",
              "      --bg-color: #E8F0FE;\n",
              "      --fill-color: #1967D2;\n",
              "      --hover-bg-color: #E2EBFA;\n",
              "      --hover-fill-color: #174EA6;\n",
              "      --disabled-fill-color: #AAA;\n",
              "      --disabled-bg-color: #DDD;\n",
              "  }\n",
              "\n",
              "  [theme=dark] .colab-df-quickchart {\n",
              "      --bg-color: #3B4455;\n",
              "      --fill-color: #D2E3FC;\n",
              "      --hover-bg-color: #434B5C;\n",
              "      --hover-fill-color: #FFFFFF;\n",
              "      --disabled-bg-color: #3B4455;\n",
              "      --disabled-fill-color: #666;\n",
              "  }\n",
              "\n",
              "  .colab-df-quickchart {\n",
              "    background-color: var(--bg-color);\n",
              "    border: none;\n",
              "    border-radius: 50%;\n",
              "    cursor: pointer;\n",
              "    display: none;\n",
              "    fill: var(--fill-color);\n",
              "    height: 32px;\n",
              "    padding: 0;\n",
              "    width: 32px;\n",
              "  }\n",
              "\n",
              "  .colab-df-quickchart:hover {\n",
              "    background-color: var(--hover-bg-color);\n",
              "    box-shadow: 0 1px 2px rgba(60, 64, 67, 0.3), 0 1px 3px 1px rgba(60, 64, 67, 0.15);\n",
              "    fill: var(--button-hover-fill-color);\n",
              "  }\n",
              "\n",
              "  .colab-df-quickchart-complete:disabled,\n",
              "  .colab-df-quickchart-complete:disabled:hover {\n",
              "    background-color: var(--disabled-bg-color);\n",
              "    fill: var(--disabled-fill-color);\n",
              "    box-shadow: none;\n",
              "  }\n",
              "\n",
              "  .colab-df-spinner {\n",
              "    border: 2px solid var(--fill-color);\n",
              "    border-color: transparent;\n",
              "    border-bottom-color: var(--fill-color);\n",
              "    animation:\n",
              "      spin 1s steps(1) infinite;\n",
              "  }\n",
              "\n",
              "  @keyframes spin {\n",
              "    0% {\n",
              "      border-color: transparent;\n",
              "      border-bottom-color: var(--fill-color);\n",
              "      border-left-color: var(--fill-color);\n",
              "    }\n",
              "    20% {\n",
              "      border-color: transparent;\n",
              "      border-left-color: var(--fill-color);\n",
              "      border-top-color: var(--fill-color);\n",
              "    }\n",
              "    30% {\n",
              "      border-color: transparent;\n",
              "      border-left-color: var(--fill-color);\n",
              "      border-top-color: var(--fill-color);\n",
              "      border-right-color: var(--fill-color);\n",
              "    }\n",
              "    40% {\n",
              "      border-color: transparent;\n",
              "      border-right-color: var(--fill-color);\n",
              "      border-top-color: var(--fill-color);\n",
              "    }\n",
              "    60% {\n",
              "      border-color: transparent;\n",
              "      border-right-color: var(--fill-color);\n",
              "    }\n",
              "    80% {\n",
              "      border-color: transparent;\n",
              "      border-right-color: var(--fill-color);\n",
              "      border-bottom-color: var(--fill-color);\n",
              "    }\n",
              "    90% {\n",
              "      border-color: transparent;\n",
              "      border-bottom-color: var(--fill-color);\n",
              "    }\n",
              "  }\n",
              "</style>\n",
              "\n",
              "      <script>\n",
              "        async function quickchart(key) {\n",
              "          const quickchartButtonEl =\n",
              "            document.querySelector('#' + key + ' button');\n",
              "          quickchartButtonEl.disabled = true;  // To prevent multiple clicks.\n",
              "          quickchartButtonEl.classList.add('colab-df-spinner');\n",
              "          try {\n",
              "            const charts = await google.colab.kernel.invokeFunction(\n",
              "                'suggestCharts', [key], {});\n",
              "          } catch (error) {\n",
              "            console.error('Error during call to suggestCharts:', error);\n",
              "          }\n",
              "          quickchartButtonEl.classList.remove('colab-df-spinner');\n",
              "          quickchartButtonEl.classList.add('colab-df-quickchart-complete');\n",
              "        }\n",
              "        (() => {\n",
              "          let quickchartButtonEl =\n",
              "            document.querySelector('#df-44e40a33-a8bd-4328-af60-dead709d8eda button');\n",
              "          quickchartButtonEl.style.display =\n",
              "            google.colab.kernel.accessAllowed ? 'block' : 'none';\n",
              "        })();\n",
              "      </script>\n",
              "    </div>\n",
              "\n",
              "    </div>\n",
              "  </div>\n"
            ],
            "application/vnd.google.colaboratory.intrinsic+json": {
              "type": "dataframe"
            }
          },
          "metadata": {},
          "execution_count": 106
        }
      ]
    },
    {
      "cell_type": "code",
      "source": [
        "# Je veux voir quelles features de X_train ne sont pas des floats ou des int, afin de les enlever\n",
        "# pour pouvoir faire ma corrélation entre les features de X_train et mes TARGET\n",
        "\n",
        "\n",
        "##j'encode la colonne COUNTRY en 2 colonnes : COUNTRY_FR et COUNTRY_DE\n",
        "X_train_encode = X_train.copy()\n",
        "X_train_encode[\"COUNTRY_FR\"] = (X_train_encode[\"COUNTRY\"] == \"FR\").astype(int)\n",
        "X_train_encode[\"COUNTRY_DE\"] = (X_train_encode[\"COUNTRY\"] == \"DE\").astype(int)\n",
        "##print(X_train_encode.head())\n",
        "X_train_encode = X_train_encode.drop(columns = [\"COUNTRY\"])\n",
        "corrs = X_train_encode.corrwith(y_train[\"TARGET\"], method = 'spearman') # Remarque : la fonction corrwith calcule la corrélation entre les features de X_train et les valeurs TARGET de y_train ligne par ligne\n",
        "                                                                        # Remarque 2 : on utilise la corrélation de Spearman car c'est la corrélation de l'énoncé\n",
        "corrs_abs = corrs.abs().sort_values(ascending=False) # on regarde les valeurs absolues des corrélations des features avec la TARGET. En effet, une corrélation négative mais avec une valeur absolue élevée est aussi une corrélation forte, c'est simplement\n",
        "                                                     # qu'elle agit dans le sens inverse de l'évolution du prix du futures (qd feature augmente, cible diminue, ou l'inverse). exemple : si augmentation du vent, prix diminue car on a + d'électricité\n",
        "print(corrs_abs.head(20))\n",
        "print(corrs_abs.tail(18))\n",
        "# --> j'obtiens que les features les plus corrélées à la TARGET sont : DE_NET_IMPORT, DE_RESIDUAL_LOAD, DE_GAS, DE_HYDRO, FR_HYDRO, COUNTRY_DE\n",
        "# Donc les pays ont leur importance, j'ai intérêt à les encoder\n",
        "\n",
        "#print(X_train.head())\n",
        "#print(y_train.head())\n"
      ],
      "metadata": {
        "id": "QH1KYRgbzq__",
        "colab": {
          "base_uri": "https://localhost:8080/"
        },
        "outputId": "dbaf7f0a-75ef-4768-c2c7-ff03cea87c62"
      },
      "execution_count": 107,
      "outputs": [
        {
          "output_type": "stream",
          "name": "stdout",
          "text": [
            "DE_NET_IMPORT       0.199016\n",
            "DE_NET_EXPORT       0.199016\n",
            "DE_WINDPOW          0.185688\n",
            "DE_RESIDUAL_LOAD    0.175793\n",
            "FR_WINDPOW          0.155568\n",
            "DE_HYDRO            0.151367\n",
            "DE_GAS              0.129905\n",
            "CARBON_RET          0.104375\n",
            "DE_WIND             0.089331\n",
            "DE_COAL             0.072380\n",
            "GAS_RET             0.066800\n",
            "FR_HYDRO            0.064682\n",
            "FR_WIND             0.064479\n",
            "DE_CONSUMPTION      0.063617\n",
            "FR_RAIN             0.056540\n",
            "FR_DE_EXCHANGE      0.050763\n",
            "DE_FR_EXCHANGE      0.050763\n",
            "FR_COAL             0.048463\n",
            "FR_TEMP             0.044952\n",
            "DE_LIGNITE          0.044180\n",
            "dtype: float64\n",
            "FR_TEMP             0.044952\n",
            "DE_LIGNITE          0.044180\n",
            "DE_RAIN             0.037053\n",
            "DE_SOLAR            0.032740\n",
            "FR_SOLAR            0.028839\n",
            "FR_CONSUMPTION      0.027242\n",
            "ID                  0.027199\n",
            "COUNTRY_FR          0.027114\n",
            "COUNTRY_DE          0.027114\n",
            "DE_TEMP             0.019125\n",
            "FR_RESIDUAL_LOAD    0.018241\n",
            "COAL_RET            0.017573\n",
            "FR_GAS              0.016334\n",
            "FR_NET_EXPORT       0.007698\n",
            "FR_NET_IMPORT       0.007698\n",
            "DE_NUCLEAR          0.007052\n",
            "DAY_ID              0.003901\n",
            "FR_NUCLEAR          0.003619\n",
            "dtype: float64\n"
          ]
        }
      ]
    },
    {
      "cell_type": "markdown",
      "source": [
        "J'obtiens que les features les plus corrélées (en valeur absolue) de X_train et avec les TARGET (de y_train) sont par ordre décroissant : DE_NET_IMPORT, DE_NET_EXPORT, DE_WINDPOW, DE_RESIDUAL_LOAD, FR_WINDPOW,DE_HYDRO, DE_GAS, CARBON_RET, DE_WIND, DE_COAL, GAS_RET, FR_HYDRO,FR_WIND, DE_CONSUMPTION, FR_RAIN, FR_DE_EXCHANGE, DE_FR_EXCHANGE, FR_COAL, FR_TEMP, DE_LIGNITE.\n",
        "\n",
        "\n",
        "De même, j'obtiens les features les moins corrélées (en valeur absolue) de X_train avec les TARGET sont (de la plus corrélées à la moins corrélée) : DE_RAIN, DE_SOLAR, FR_SOLAR, FR_CONSUMPTION, ID, COUNTRY_FR, COUNTRY_DE, DE_TEMP, FR_RESIDUAL_LOAD, COAL_RET, FR_GAS, FR_NET_EXPORT, FR_NET_IMPORT, DE_NUCLEAR, DAY_ID, FR_NUCLEAR.\n",
        "\n",
        "Regarder les corrélations permet de comprendre quelles features influencent TARGET, et permet d'interpréter phyisquement le modèle. Ces features représentent les effets dominants."
      ],
      "metadata": {
        "id": "kmOrP0HI-9hM"
      }
    },
    {
      "cell_type": "markdown",
      "source": [
        "Evolution des futures (TARGET) en fonction du temps."
      ],
      "metadata": {
        "id": "ago4HPmeIx6B"
      }
    },
    {
      "cell_type": "code",
      "source": [
        "# on trace l'évolution des valeurs des futures en fonction du temps par pays\n",
        "# dans un premier temps, on regroupe les features et les TARGET dans un même dataset qu'on nomme X_train_full\n",
        "\n",
        "X_train_full = X_train.merge(y_train, on = \"ID\", how = \"left\")\n",
        "#print(X_train_full.head())\n",
        "#X_train_full.shape\n",
        "\n",
        "\n"
      ],
      "metadata": {
        "id": "Vi1k7srP0PFS"
      },
      "execution_count": 108,
      "outputs": []
    },
    {
      "cell_type": "code",
      "source": [
        "plt.figure(figsize=(10,5))\n",
        "\n",
        "for country in [\"FR\", \"DE\"]:\n",
        "  subset = X_train_full[X_train_full[\"COUNTRY\"] == country]\n",
        "  #print(subset.head())\n",
        "  subset_sorted = subset.sort_values(\"DAY_ID\")\n",
        "  plt.plot(subset_sorted[\"DAY_ID\"], subset_sorted[\"TARGET\"].rolling(7).mean(), label=country, alpha=0.8)\n",
        "\n",
        "plt.xlabel(\"DAY_ID\")\n",
        "plt.ylabel(\"TARGET (moyenne mobile sur 7 jours)\")\n",
        "plt.title(\"Tendance de l'évolution des futures par pays en fonction du temps\")\n",
        "plt.legend()\n",
        "plt.show()"
      ],
      "metadata": {
        "id": "PxC3E7cWLQ9S",
        "colab": {
          "base_uri": "https://localhost:8080/",
          "height": 488
        },
        "outputId": "a3ff42fe-2242-4721-de8c-21f5751cff7e"
      },
      "execution_count": 109,
      "outputs": [
        {
          "output_type": "display_data",
          "data": {
            "text/plain": [
              "<Figure size 1000x500 with 1 Axes>"
            ],
            "image/png": "[encoded data removed]"
          },
          "metadata": {}
        }
      ]
    },
    {
      "cell_type": "markdown",
      "source": [
        "Prétraitement des données"
      ],
      "metadata": {
        "id": "09Aq45BDMwHw"
      }
    },
    {
      "cell_type": "code",
      "source": [
        "# Nettoyage des données\n",
        "\n",
        "# Comme mes données TEST et mes données TRAIN appartiennent au même univers statistique (mêmes pays, même période, mêmes phénomènes physiques),\n",
        "# il n'y a pas de chronologie causale stricte entre TRAIN et TEST : ils ne représentent pas passé et futur, mais 2 sous-échantillons du même phénomène.\n",
        "# --> Donc on peut estimer les valeurs manquantes en utilisant toute l'information disponible sur les features, avant de découper le dataset.\n",
        "# Dans un premier temps, je regarde comment se comportent les features de mes données d'entraînement, puis ensuite je ferai mes splits, et je remplirai les valeurs vides.\n",
        "# Ensuite j'essaierai de détecter les outliers s'il y en a\n",
        "\n",
        "# On regarde d'abord où sont situées les valeurs manquantes\n",
        "NaN_count_train = X_train.isna().sum()\n",
        "#print(NaN_count)\n",
        "NaN_percent_train = 100 * NaN_count_train/len(X_train)\n",
        "print(len(X_train))\n",
        "print(NaN_percent_train.sort_values(ascending=False).head(12)) # --> Il y a 12 colonnes qui contiennent des valeurs manquantes, et cette ligne\n",
        "                                                               # renvoie le pourcentage de valeurs manquantes pour chacune de ces colonnes\n",
        "\n",
        "NaN_count_test = X_test.isna().sum()\n",
        "NaN_percent_test = 100 * NaN_count_test/len(X_test)\n",
        "print(NaN_percent_test.sort_values(ascending=False).head(12)) # --> Les 12 mêmes colonnes contiennent des valeurs manquantes dans X_test\n",
        "\n"
      ],
      "metadata": {
        "id": "s5-EXfEdMeOF",
        "colab": {
          "base_uri": "https://localhost:8080/"
        },
        "outputId": "778ea4e4-376f-44b5-9fd7-f75da8a83e28"
      },
      "execution_count": 110,
      "outputs": [
        {
          "output_type": "stream",
          "name": "stdout",
          "text": [
            "1494\n",
            "DE_NET_IMPORT     8.299866\n",
            "DE_NET_EXPORT     8.299866\n",
            "FR_RAIN           6.291834\n",
            "FR_TEMP           6.291834\n",
            "DE_WIND           6.291834\n",
            "FR_WIND           6.291834\n",
            "DE_TEMP           6.291834\n",
            "DE_RAIN           6.291834\n",
            "FR_NET_IMPORT     4.685408\n",
            "FR_NET_EXPORT     4.685408\n",
            "DE_FR_EXCHANGE    1.673360\n",
            "FR_DE_EXCHANGE    1.673360\n",
            "dtype: float64\n",
            "DE_NET_IMPORT     7.186544\n",
            "DE_NET_EXPORT     7.186544\n",
            "FR_RAIN           6.116208\n",
            "FR_TEMP           6.116208\n",
            "DE_WIND           6.116208\n",
            "FR_WIND           6.116208\n",
            "DE_TEMP           6.116208\n",
            "DE_RAIN           6.116208\n",
            "FR_NET_IMPORT     3.669725\n",
            "FR_NET_EXPORT     3.669725\n",
            "DE_FR_EXCHANGE    1.376147\n",
            "FR_DE_EXCHANGE    1.376147\n",
            "dtype: float64\n"
          ]
        }
      ]
    },
    {
      "cell_type": "markdown",
      "source": [
        "J'ai donc FR_TEMP, DE_WIND, FR_WIND, DE_TEMP, DE_RAIN qui sont mes variables météorologiques qui ont des valeurs manquantes.\n",
        "Pour remplacer leurs valeurs, je peux faire une interpolation linéaire.\n",
        "\n",
        "J'ai également les variables d'utilisation électrique suivantes qui ont des valeurs manquantes :\n",
        "DE_NET_IMPORT, DE_NET_EXPORT, FR_NET_IMPORT, FR_NET_EXPORT, DE_FR_EXCHANGE, FR_DE_EXCHANGE.\n",
        "\n"
      ],
      "metadata": {
        "id": "MLMoepaqU60o"
      }
    },
    {
      "cell_type": "markdown",
      "source": [
        "Je fusionne mes données TEST et mes données TRAIN en un grand dataset : X_all"
      ],
      "metadata": {
        "id": "hzT7E9qQkDiK"
      }
    },
    {
      "cell_type": "code",
      "source": [
        "# Dans un premier temps, on va fusionner X_train et X_test afin de déterminer les valeurs manquantes des features dans chacun des deux.\n",
        "# Je les fusionne en un X_all\n",
        "X_all = pd.concat([X_train, X_test], ignore_index=True).sort_values([\"COUNTRY\", \"DAY_ID\"])\n",
        "#print(X_all.head(5))\n"
      ],
      "metadata": {
        "id": "y7fUzMiKHA53"
      },
      "execution_count": 111,
      "outputs": []
    },
    {
      "cell_type": "markdown",
      "source": [
        "On remplace toutes les valeurs NaN de FR_RAIN, FR_TEMP, RF_WIND, DE_WIND, DE_TEMP, DE_RAIN en interpolant temporellement.\n",
        "Il ne nous reste plus que les variables d'utilisation électrique suivantes qui ont des valeurs manquantes : DE_NET_IMPORT, DE_NET_EXPORT, FR_NET_IMPORT, FR_NET_EXPORT, DE_FR_EXCHANGE, FR_DE_EXCHANGE\n",
        "On obtient donc un nouveau X_all."
      ],
      "metadata": {
        "id": "HK46mHJqMkWb"
      }
    },
    {
      "cell_type": "markdown",
      "source": [
        "Puis on impute les valeurs manquantes de variables d'utilisation électrique suivantes : DE_NET_IMPORT, DE_NET_EXPORT, FR_NET_IMPORT, FR_NET_EXPORT, DE_FR_EXCHANGE, FR_DE_EXCHANGE.\n",
        "L'idée est de remplir les NaN avec une interpolation linéaire locale pour les trous courts, avec une moyenne mobile (rolling mean) pour lisser les périodes plus longues, et avec une propagation avant/après pour combler les bords éventuels."
      ],
      "metadata": {
        "id": "uahCnp0dQocA"
      }
    },
    {
      "cell_type": "markdown",
      "source": [
        "Finalement, on obtient un X_all sans aucune valeur manquante (aucun NaN), et on s'est bien assuré qu'aucune des autres valeurs qui n'étaient pas des NaN n'ont été modifiées.\n",
        "\n",
        "Je vais refaire le code en un bloc afin de le rendre plus lisible."
      ],
      "metadata": {
        "id": "pG8zrD8zRiTp"
      }
    },
    {
      "cell_type": "code",
      "source": [
        "# Liste des colonnes météorologiques à interpoler temporellement\n",
        "cols_meteo = [\"FR_TEMP\", \"DE_WIND\", \"FR_WIND\", \"DE_TEMP\", \"DE_RAIN\", \"FR_RAIN\"]\n",
        "\n",
        "# Boucle d’interpolation\n",
        "for col in cols_meteo:\n",
        "    before_meteo = X_all[col].copy()\n",
        "    X_all[col] = X_all.groupby(\"COUNTRY\")[col].transform(lambda s: s.interpolate(method=\"linear\"))\n",
        "    print(f\"{col} : interpolation terminée ({X_all[col].isna().sum()} NaN restants)\")\n",
        "    valeurs_modifiees = before_meteo != X_all[col]\n",
        "    was_no_nan = before_meteo.notna()\n",
        "    valeurs_no_nan_modifiees = was_no_nan & valeurs_modifiees\n",
        "    print(f\"Nombre de valeurs non NaN de {col} qui ont été modifiées après l'imputation pour les colonnes météo :\", valeurs_no_nan_modifiees.sum())\n",
        "\n",
        "# Liste  des colonnes d'utilisation éléctrique à remplir (imputer les NaN)\n",
        "\n",
        "cols_usage = [\n",
        "    \"DE_NET_IMPORT\", \"DE_NET_EXPORT\",\n",
        "    \"FR_NET_IMPORT\", \"FR_NET_EXPORT\",\n",
        "    \"DE_FR_EXCHANGE\", \"FR_DE_EXCHANGE\"\n",
        "]\n",
        "\n",
        "for col in cols_usage:\n",
        "    before = X_all[col].copy()\n",
        "    # Étape 1 — Tri temporel par pays\n",
        "    X_all = X_all.sort_values([\"COUNTRY\", \"DAY_ID\"])\n",
        "\n",
        "    # Étape 2 — Interpolation linéaire par pays (comble les petits trous)\n",
        "    X_all[col] = X_all.groupby(\"COUNTRY\")[col].transform(lambda s: s.interpolate(method=\"linear\", limit=3, limit_direction=\"both\"))\n",
        "\n",
        "    # Étape 3 — Moyenne mobile (3 jours) pour combler les NaN restants\n",
        "    X_all[col] = X_all.groupby(\"COUNTRY\")[col].transform(lambda s: s.fillna(s.rolling(3, min_periods=1, center=True).mean()))\n",
        "\n",
        "    # Étape 4 — Propagation avant/arrière pour bords extrêmes\n",
        "    X_all[col] = X_all.groupby(\"COUNTRY\")[col].transform(lambda s: s.fillna(method=\"ffill\").fillna(method=\"bfill\"))\n",
        "    valeurs_modifiees = before != X_all[col]\n",
        "    was_no_nan = before.notna()\n",
        "    valeurs_no_nan_modifiees = was_no_nan & valeurs_modifiees\n",
        "    print(f\"Nombre de valeurs non NaN de {col} qui ont été modifiées après l'imputation pour les colonnes d'utilisation électrique :\", valeurs_no_nan_modifiees.sum())\n",
        "\n",
        "\n",
        "print(X_all.isna().sum())"
      ],
      "metadata": {
        "colab": {
          "base_uri": "https://localhost:8080/"
        },
        "id": "_WX4BHk8RTbh",
        "outputId": "ef7d1a77-f269-4923-9664-3dea8ecdeed5"
      },
      "execution_count": 112,
      "outputs": [
        {
          "output_type": "stream",
          "name": "stdout",
          "text": [
            "FR_TEMP : interpolation terminée (0 NaN restants)\n",
            "Nombre de valeurs non NaN de FR_TEMP qui ont été modifiées après l'imputation pour les colonnes météo : 0\n",
            "DE_WIND : interpolation terminée (0 NaN restants)\n",
            "Nombre de valeurs non NaN de DE_WIND qui ont été modifiées après l'imputation pour les colonnes météo : 0\n",
            "FR_WIND : interpolation terminée (0 NaN restants)\n",
            "Nombre de valeurs non NaN de FR_WIND qui ont été modifiées après l'imputation pour les colonnes météo : 0\n",
            "DE_TEMP : interpolation terminée (0 NaN restants)\n",
            "Nombre de valeurs non NaN de DE_TEMP qui ont été modifiées après l'imputation pour les colonnes météo : 0\n",
            "DE_RAIN : interpolation terminée (0 NaN restants)\n",
            "Nombre de valeurs non NaN de DE_RAIN qui ont été modifiées après l'imputation pour les colonnes météo : 0\n",
            "FR_RAIN : interpolation terminée (0 NaN restants)\n",
            "Nombre de valeurs non NaN de FR_RAIN qui ont été modifiées après l'imputation pour les colonnes météo : 0\n",
            "Nombre de valeurs non NaN de DE_NET_IMPORT qui ont été modifiées après l'imputation pour les colonnes d'utilisation électrique : 0\n",
            "Nombre de valeurs non NaN de DE_NET_EXPORT qui ont été modifiées après l'imputation pour les colonnes d'utilisation électrique : 0\n",
            "Nombre de valeurs non NaN de FR_NET_IMPORT qui ont été modifiées après l'imputation pour les colonnes d'utilisation électrique : 0\n",
            "Nombre de valeurs non NaN de FR_NET_EXPORT qui ont été modifiées après l'imputation pour les colonnes d'utilisation électrique : 0\n",
            "Nombre de valeurs non NaN de DE_FR_EXCHANGE qui ont été modifiées après l'imputation pour les colonnes d'utilisation électrique : 0\n",
            "Nombre de valeurs non NaN de FR_DE_EXCHANGE qui ont été modifiées après l'imputation pour les colonnes d'utilisation électrique : 0\n",
            "ID                  0\n",
            "DAY_ID              0\n",
            "COUNTRY             0\n",
            "DE_CONSUMPTION      0\n",
            "FR_CONSUMPTION      0\n",
            "DE_FR_EXCHANGE      0\n",
            "FR_DE_EXCHANGE      0\n",
            "DE_NET_EXPORT       0\n",
            "FR_NET_EXPORT       0\n",
            "DE_NET_IMPORT       0\n",
            "FR_NET_IMPORT       0\n",
            "DE_GAS              0\n",
            "FR_GAS              0\n",
            "DE_COAL             0\n",
            "FR_COAL             0\n",
            "DE_HYDRO            0\n",
            "FR_HYDRO            0\n",
            "DE_NUCLEAR          0\n",
            "FR_NUCLEAR          0\n",
            "DE_SOLAR            0\n",
            "FR_SOLAR            0\n",
            "DE_WINDPOW          0\n",
            "FR_WINDPOW          0\n",
            "DE_LIGNITE          0\n",
            "DE_RESIDUAL_LOAD    0\n",
            "FR_RESIDUAL_LOAD    0\n",
            "DE_RAIN             0\n",
            "FR_RAIN             0\n",
            "DE_WIND             0\n",
            "FR_WIND             0\n",
            "DE_TEMP             0\n",
            "FR_TEMP             0\n",
            "GAS_RET             0\n",
            "COAL_RET            0\n",
            "CARBON_RET          0\n",
            "dtype: int64\n"
          ]
        },
        {
          "output_type": "stream",
          "name": "stderr",
          "text": [
            "/tmp/ipython-input-4279896848.py:34: FutureWarning: Series.fillna with 'method' is deprecated and will raise in a future version. Use obj.ffill() or obj.bfill() instead.\n",
            "  X_all[col] = X_all.groupby(\"COUNTRY\")[col].transform(lambda s: s.fillna(method=\"ffill\").fillna(method=\"bfill\"))\n",
            "/tmp/ipython-input-4279896848.py:34: FutureWarning: Series.fillna with 'method' is deprecated and will raise in a future version. Use obj.ffill() or obj.bfill() instead.\n",
            "  X_all[col] = X_all.groupby(\"COUNTRY\")[col].transform(lambda s: s.fillna(method=\"ffill\").fillna(method=\"bfill\"))\n",
            "/tmp/ipython-input-4279896848.py:34: FutureWarning: Series.fillna with 'method' is deprecated and will raise in a future version. Use obj.ffill() or obj.bfill() instead.\n",
            "  X_all[col] = X_all.groupby(\"COUNTRY\")[col].transform(lambda s: s.fillna(method=\"ffill\").fillna(method=\"bfill\"))\n",
            "/tmp/ipython-input-4279896848.py:34: FutureWarning: Series.fillna with 'method' is deprecated and will raise in a future version. Use obj.ffill() or obj.bfill() instead.\n",
            "  X_all[col] = X_all.groupby(\"COUNTRY\")[col].transform(lambda s: s.fillna(method=\"ffill\").fillna(method=\"bfill\"))\n",
            "/tmp/ipython-input-4279896848.py:34: FutureWarning: Series.fillna with 'method' is deprecated and will raise in a future version. Use obj.ffill() or obj.bfill() instead.\n",
            "  X_all[col] = X_all.groupby(\"COUNTRY\")[col].transform(lambda s: s.fillna(method=\"ffill\").fillna(method=\"bfill\"))\n",
            "/tmp/ipython-input-4279896848.py:34: FutureWarning: Series.fillna with 'method' is deprecated and will raise in a future version. Use obj.ffill() or obj.bfill() instead.\n",
            "  X_all[col] = X_all.groupby(\"COUNTRY\")[col].transform(lambda s: s.fillna(method=\"ffill\").fillna(method=\"bfill\"))\n"
          ]
        }
      ]
    },
    {
      "cell_type": "markdown",
      "source": [
        "Maintenant que j'ai mon X_all complet, je vais pouvoir commencer à faire mes modèles.\n",
        "Tout d'abord, je vais choisir les features qui me paraissent pertinentes (OneHotEncoding + création de lags).\n",
        "J'ai déjà fait le OneHotEncoding de ma seule variable catégorielle (COUNTRY), donc je m'occupe de la création des lags.\n",
        "Ensuite, je m'occuperai de la multicolinéarité.\n",
        "Enfin, je normaliserai mes features (si je fais régression linéaire avec pénalisation)."
      ],
      "metadata": {
        "id": "SSFKmzyreg0P"
      }
    },
    {
      "cell_type": "markdown",
      "source": [
        "Remarque importante : les données TEST sont temporellement inclues dans les données TRAIN, mais en fait ça n' pas d'importance de pouvoir regarder dans le futur, car les valeurs des TARGET à l'instant t ne dépendent pas des valeurs des targets aux instants t+k."
      ],
      "metadata": {
        "id": "Bel9YMQcp_YV"
      }
    },
    {
      "cell_type": "markdown",
      "source": [
        "Rappel : TARGET = variation journalière du prix du contrat future d'électricité à 24h, c'est le prix prévu aujourd'hui pour l'électricité livrée demain (ce prix est fixé aujourd'hui, en fonction de ce que les acteurs savent ou anticipent d'aujourd'hui).\n",
        "\n",
        "Choix des variables à lagger ou non :\n",
        "\n",
        "* variables de production (DE_GAS, FR_GAS, DE_COAL, FR_COAL, DE_HYDRO, FR_HYDRO, DE_NUCLEAR, FR_NUCLEAR, DE_SOLAR, FR_SOLAR, DE_WINDPOW, FR_WINDPOW, DE_LIGNITE) ==> l'effet est  direct sur la TARGET : l'influence est immédiate sur l'offre d'électricité, donc on ne la lagge pas.\n",
        "\n",
        "* variables météorologiques (DE_RAIN, FR_RAIN, DE_WIND, FR_WIND, DE_TEMP, FR_TEMP) ==> effet retardé de 0 jour à 3 jours (remplissage des réserves hydrauliques), permettent aussi de prendre en compte les tendandes météorlogiques, et à l'inverse on peut mettre des lead (l'inverse de lags, i.e. une prévision des variables météorologiques), car le prix va dépendre des conditions météorologiques du lendemain. --> à voir jusqu'à quand il est pertinent de mettre des leads (je peux aller jusqu'à une semaine ?)\n",
        "\n",
        "* variables de consommation (DE_CONSUMPTION, FR_CONSUMPTION) : c'est la demande brute en électricité du pays, son effet est direct sur les prix (les marchés day-ahead anticipent la demande du lendemain à partir des observations actuelles). --> mais on peut dégager des tendances dans la consommation de l'énergie, donc on peut prendre en compte les consommations des jours précédents non?\n",
        "\n",
        "* Charge résiduelle = Consommation totale - Production renouvelable (éolien +  solaire). C'est la quantité d'électricité qui doit être produite par les moyenns conventionnels (nucléaire, gaz, charbon). Or ces moyens ont un coût marginal bien plus élevé (quand la charge résiduelle augmente, le prix augmente). C'est une mesure du manque de production renouvelable, son effet est direct.\n",
        "\n",
        "*   Importation et exportation nette (FR_DE_EXCHANGE, DE_NET_EXPORT, FR_NET_EXPORT, DE_NET_IMPORT, FR_NET_IMPORT) : quantité nette d'électricité importée/exportée par un pays depuis ses voisins --> effet direct, car ces flux reflètent l'équilibre offre-demande à l'instant t. --> De même, est-ce qu'on ne pourrait pas dégager des tendances dans l'importation et l'exportation nette, et donc prendre en compte les importations et exportations nettes des jours précédents?\n",
        "\n",
        "\n",
        "*   Echanges France <--> Allemagne (DE_FR_EXCHANGE, FR_DE_EXCHANGE) : ces échanges sont des ajustements de marché très rapides (quasi simultanés entre les 2 bourses), l'effet est direct\n",
        "*   Élément de liste\n",
        "\n",
        "\n",
        "\n",
        "\n",
        "\n",
        "\n",
        "\n",
        "\n",
        "\n"
      ],
      "metadata": {
        "id": "g8-u6KLArNt4"
      }
    },
    {
      "cell_type": "code",
      "source": [
        "# je fusionne y_train (TARGET) avec X_all, et j'appelle la fusion train_all\n",
        "\n",
        "\n",
        "train_all = X_all.merge(y_train[[\"ID\", \"TARGET\"]], on=\"ID\", how=\"left\")\n",
        "#print(train_all.head())\n",
        "#print(X_train.isna().sum())\n",
        "#print(y_train.loc[y_train[\"ID\"]==410, \"TARGET\"])\n",
        "\n"
      ],
      "metadata": {
        "id": "c-Y6WLv1Yt70"
      },
      "execution_count": 113,
      "outputs": []
    },
    {
      "cell_type": "markdown",
      "source": [
        "Désormais je vais OneHotEncoder la feature \"COUNTRY\" de train_all (j'ai oublié de le faire avant)"
      ],
      "metadata": {
        "id": "7Myn1xgyzhE8"
      }
    },
    {
      "cell_type": "code",
      "source": [
        "# OneHotEncoding de COUNTRY\n",
        "\n",
        "##j'encode la colonne COUNTRY en 2 colonnes : COUNTRY_FR et COUNTRY_DE\n",
        "train_all_encode = train_all.copy()\n",
        "train_all_encode[\"COUNTRY_FR\"] = (train_all_encode[\"COUNTRY\"] == \"FR\").astype(int)\n",
        "train_all_encode[\"COUNTRY_DE\"] = (train_all_encode[\"COUNTRY\"] == \"DE\").astype(int)\n",
        "\n",
        "train_all_encode = train_all_encode.drop(columns = [\"COUNTRY\"])\n",
        "print(train_all_encode.head())\n"
      ],
      "metadata": {
        "colab": {
          "base_uri": "https://localhost:8080/"
        },
        "id": "n6Qy0wKvzfye",
        "outputId": "ea530ce8-1141-45eb-84e7-981933aa7428"
      },
      "execution_count": 114,
      "outputs": [
        {
          "output_type": "stream",
          "name": "stdout",
          "text": [
            "    ID  DAY_ID  DE_CONSUMPTION  FR_CONSUMPTION  DE_FR_EXCHANGE  \\\n",
            "0  111       2       -0.068972       -0.667390       -1.102015   \n",
            "1  800       3       -0.134670       -0.834564       -1.051716   \n",
            "2  410       4        0.944117        0.203547        0.372743   \n",
            "3  831       5       -0.297850       -0.470371        0.144615   \n",
            "4  562       6        0.120788       -0.744840       -1.195940   \n",
            "\n",
            "   FR_DE_EXCHANGE  DE_NET_EXPORT  FR_NET_EXPORT  DE_NET_IMPORT  FR_NET_IMPORT  \\\n",
            "0        1.102015      -1.080403       0.256736       1.080403      -0.256736   \n",
            "1        1.051716      -1.881881      -0.612133       1.881881       0.612133   \n",
            "2       -0.372743       0.656335       0.519380      -0.656335      -0.519380   \n",
            "3       -0.144615      -1.208286      -1.811403       1.208286       1.811403   \n",
            "4        1.195940      -1.670709       1.164429       1.670709      -1.164429   \n",
            "\n",
            "   ...   DE_WIND   FR_WIND   DE_TEMP   FR_TEMP   GAS_RET  COAL_RET  \\\n",
            "0  ... -0.623041 -0.926064 -0.148950  0.641235  1.802550  1.140920   \n",
            "1  ...  0.244859  0.488650 -1.710888 -0.951057  0.440121 -0.064550   \n",
            "2  ... -0.614570 -0.734964  1.192221  0.701597 -0.357747  0.696316   \n",
            "3  ...  0.333817  0.021868 -0.062187  1.459745 -0.117977  0.550433   \n",
            "4  ...  0.324280  1.119383 -0.288148 -0.894852  2.213681  0.352223   \n",
            "\n",
            "   CARBON_RET    TARGET  COUNTRY_FR  COUNTRY_DE  \n",
            "0    0.900434  0.861270           0           1  \n",
            "1   -0.032756  7.138604           0           1  \n",
            "2   -0.426880       NaN           0           1  \n",
            "3    0.781870  0.026374           0           1  \n",
            "4    0.518026       NaN           0           1  \n",
            "\n",
            "[5 rows x 37 columns]\n"
          ]
        }
      ]
    },
    {
      "cell_type": "code",
      "source": [
        "# on calcule les corrélations entre la TARGET et les features\n",
        "# on crée la fonction cross_corr_by_country qui permet de calculer cette corrélation entre les lags d'une feature (feature_col) et la TARGET pour un pays donné\n",
        "\n",
        "def cross_corr_by_country(df, feature_col, country, lags = range(8), method='spearman'):\n",
        "\n",
        "  if country == \"FR\":\n",
        "    mask_country = df[\"COUNTRY_FR\"] == 1\n",
        "\n",
        "  elif country == \"DE\":\n",
        "    mask_country = df[\"COUNTRY_DE\"] == 1\n",
        "\n",
        "  else:\n",
        "    raise ValueError(\"country doit être 'FR' ou 'DE'\")\n",
        "\n",
        "  d = (df[mask_country]\n",
        "       .sort_values(\"DAY_ID\")\n",
        "       .loc[:, [\"DAY_ID\", feature_col, \"TARGET\"]]\n",
        "       .dropna(subset=[\"TARGET\"]))\n",
        "\n",
        "  records = []\n",
        "  for k in lags:\n",
        "    x = d[feature_col].shift(k)\n",
        "    y = d[\"TARGET\"]\n",
        "    valid = x.notna() & y.notna()\n",
        "\n",
        "    if valid.sum() >= 5 :\n",
        "      if method == 'spearman':\n",
        "        rho, _ = spearmanr(x[valid], y[valid])\n",
        "      else :\n",
        "        rho, _ = pearsonr(x[valid, y[valid]])\n",
        "\n",
        "    else:\n",
        "      rho = np.nan\n",
        "\n",
        "    records.append((k, rho, int(valid.sum())))\n",
        "\n",
        "  out = pd.DataFrame(records, columns = [\"lag\", \"corr\", \"n\"])\n",
        "\n",
        "  return out\n",
        "\n",
        "\n",
        "print(cross_corr_by_country(train_all_encode, \"DE_RAIN\", \"DE\", lags=range(20), method='spearman'))\n",
        "\n"
      ],
      "metadata": {
        "colab": {
          "base_uri": "https://localhost:8080/"
        },
        "id": "fGMs-IL1i1rr",
        "outputId": "bc6b5757-b60c-40c8-8336-a99cfc35e770"
      },
      "execution_count": 119,
      "outputs": [
        {
          "output_type": "stream",
          "name": "stdout",
          "text": [
            "    lag      corr    n\n",
            "0     0  0.008308  643\n",
            "1     1  0.110522  642\n",
            "2     2  0.083275  641\n",
            "3     3  0.007224  640\n",
            "4     4  0.041718  639\n",
            "5     5  0.005135  638\n",
            "6     6  0.014469  637\n",
            "7     7  0.065730  636\n",
            "8     8 -0.023538  635\n",
            "9     9  0.003851  634\n",
            "10   10 -0.010646  633\n",
            "11   11  0.063377  632\n",
            "12   12 -0.021212  631\n",
            "13   13  0.012255  630\n",
            "14   14  0.016939  629\n",
            "15   15 -0.006466  628\n",
            "16   16 -0.096867  627\n",
            "17   17 -0.021031  626\n",
            "18   18  0.014426  625\n",
            "19   19 -0.051959  624\n"
          ]
        }
      ]
    },
    {
      "cell_type": "markdown",
      "source": [
        "Maintenant on va créer une fonction qui renvoie les meilleurs lags (ceux qui ont la meilleure corrélation) par feature et par pays.\n"
      ],
      "metadata": {
        "id": "iZiji6XJ_MVc"
      }
    },
    {
      "cell_type": "code",
      "source": [
        "def top_k_lags_for_features(df, features, countries=(\"FR\", \"DE\"), lags=range(8), top_k=3, method='spearman', min_n=5, use_abs=True):\n",
        "  # on calcule la corrélation croisée sur lags pour chaque (feature, country), puis on renvoie les top_k lags par |valeur absolue| si use_abs=True,\n",
        "  # sinon par corr brut\n",
        "\n",
        "  rows = []\n",
        "  for feat in features:\n",
        "    for country in countries:\n",
        "      res = cross_corr_by_country(df, feat, country, lags=lags, method=method, min_n=min_n).dropna(subset=[\"corr\"])\n",
        "      if res.empty:\n",
        "        continue\n",
        "      res = res.assign(metric=res[\"corr\"].abs() if use_abs else res[\"corr\"])\n",
        "      res = res.sort_values(\"metric\", ascending=False).head(top_k)\n",
        "      res = res.assign(feature=feat, country=country)\n",
        "      res = res.assign(rank=np.arange(1, len(res)+1))\n",
        "      rows.append(res[[\"feature\", \"country\", \"rank\", \"lag\", \"corr\", \"n\"]])\n",
        "\n",
        "  if rows:\n",
        "    return pd.concat(rows, ignore_index=True)\n",
        "  return pd.DataFrame(columns=[\"feature\", \"country\", \"rank\", \"lag\", \"corr\", \"n\"])"
      ],
      "metadata": {
        "id": "d0-0q0NvuNZT"
      },
      "execution_count": 115,
      "outputs": []
    }
  ]
}