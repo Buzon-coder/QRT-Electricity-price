{
  "nbformat": 4,
  "nbformat_minor": 0,
  "metadata": {
    "colab": {
      "provenance": [],
      "authorship_tag": "ABX9TyNrKfIpwhDg0122YvbcLHdZ",
      "include_colab_link": true
    },
    "kernelspec": {
      "name": "python3",
      "display_name": "Python 3"
    },
    "language_info": {
      "name": "python"
    }
  },
  "cells": [
    {
      "cell_type": "markdown",
      "metadata": {
        "id": "view-in-github",
        "colab_type": "text"
      },
      "source": [
        "<a href=\"https://colab.research.google.com/github/Buzon-coder/QRT-Electricity-price/blob/main/QRT_Electricity_PriceV0.ipynb\" target=\"_parent\"><img src=\"https://colab.research.google.com/assets/colab-badge.svg\" alt=\"Open In Colab\"/></a>"
      ]
    },
    {
      "cell_type": "code",
      "execution_count": 1,
      "metadata": {
        "id": "wtqjF97c0UGb"
      },
      "outputs": [],
      "source": [
        "#test 2 pour github"
      ]
    },
    {
      "cell_type": "code",
      "source": [
        "#from google.colab import files\n",
        "#uploaded = files.upload()\n",
        "from google.colab import drive\n",
        "drive.mount('/content/drive')\n"
      ],
      "metadata": {
        "colab": {
          "base_uri": "https://localhost:8080/"
        },
        "id": "DnIFcrcm7faz",
        "outputId": "41ed0894-0203-479c-99b0-f13f608febfc"
      },
      "execution_count": 5,
      "outputs": [
        {
          "output_type": "stream",
          "name": "stdout",
          "text": [
            "Mounted at /content/drive\n"
          ]
        }
      ]
    },
    {
      "cell_type": "code",
      "source": [
        "import pandas as pd\n",
        "X_train = pd.read_csv(\"X_train_NHkHMNU.csv\")\n",
        "y_train = pd.read_csv(\"y_train_ZAN5mwg.csv\")\n",
        "X_test = pd.read_csv(\"X_test_final.csv\")"
      ],
      "metadata": {
        "id": "2fQ7SJHQ_yjt"
      },
      "execution_count": 8,
      "outputs": []
    },
    {
      "cell_type": "code",
      "source": [
        "#print(X_train.head())\n",
        "#print(X_train.shape)\n",
        "#print(X_train.head())\n",
        "#print(X_train.tail())\n",
        "#print(X_train[\"ID\"].nunique())\n",
        "#print(X_train[\"DAY_ID\"].nunique()) #--> ça return 851, donc il y a 851 DAY_ID uniques, donc il y a des jours qui apparaissent plusieurs fois\n",
        "#print(X_train[\"ID\"].isna().sum()) #--> ça return 0 donc tous les ID sont présents\n",
        "#print(X_train['DAY_ID'].isna().sum()) #--> ça return 0 donc tous les jours sont présents\n",
        "#print(X_train[\"COUNTRY\"].nunique())\n",
        "#print(X_train[\"COUNTRY\"].isna().sum()) #--> la colonne COUNTRY est pleine\n",
        "#print(X_train[\"ID\"].min()) # --> ça return 0\n",
        "#print(X_train[\"ID\"].max()) # --> ça return 2146, je comprends pas très bien\n",
        "#print(y_train.tail())\n",
        "#print(y_train['TARGET'].isna().sum())\n",
        "#print(X_test.shape)\n",
        "#print(X_test.head())\n",
        "#print(X_test.tail())\n",
        "#print(X_test[\"ID\"].nunique())\n",
        "#print(X_test[\"DAY_ID\"].min()) #--> ça return 4\n",
        "#print(X_test[\"DAY_ID\"].max()) #--> ça return 1214\n",
        "#print(X_test[\"DAY_ID\"].nunique()) #--> ça return 365, donc il faut prédire\n",
        "#regarder comment faire pour voir s'il y a des jours (DAY_ID) qui apparaissent plus de deux fois\n",
        "\n",
        "#je vais essayer de voir si j'ai des ID et des DAY_ID en commun entre X_TRAIN et X_TEST\n",
        "#print(len(set(X_train[\"ID\"])))\n",
        "common_id = set(X_train[\"ID\"]) & set(X_test[\"ID\"])\n",
        "print(\"Nombre d'ID' en commun entre TRAIN et TEST:\",len(common_id))\n",
        "\n",
        "common_days = set(X_train[\"DAY_ID\"]) & set(X_test[\"DAY_ID\"])\n",
        "print(\"Nombre de jours en commun entre TRAIN et TEST:\",len(common_days))\n",
        "\n",
        "# ==> donc il n'y a aucun jour en commun et aucun ID en commun entre TRAIN et TEST\n",
        "#dans mes données TRAIN, j'ai 1494 ID et 851 jours\n",
        "#dans mes données TEST, j'ai 851 ID et 365 jours\n"
      ],
      "metadata": {
        "colab": {
          "base_uri": "https://localhost:8080/"
        },
        "id": "pH5JBPGtAUZ5",
        "outputId": "16493ac8-542a-4ee1-a29d-efcf7f9f28a7"
      },
      "execution_count": 49,
      "outputs": [
        {
          "output_type": "stream",
          "name": "stdout",
          "text": [
            "Nombre d'ID' en commun entre TRAIN et TEST: 0\n",
            "Nombre de jours en commun entre TRAIN et TEST: 0\n"
          ]
        }
      ]
    },
    {
      "cell_type": "code",
      "source": [],
      "metadata": {
        "id": "AuciY4HuAWht"
      },
      "execution_count": 4,
      "outputs": []
    }
  ]
}