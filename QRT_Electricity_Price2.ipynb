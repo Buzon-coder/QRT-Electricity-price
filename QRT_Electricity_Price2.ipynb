{
  "nbformat": 4,
  "nbformat_minor": 0,
  "metadata": {
    "colab": {
      "provenance": [],
      "authorship_tag": "ABX9TyOoLTnRgzrWPxAxWocDlxcD",
      "include_colab_link": true
    },
    "kernelspec": {
      "name": "python3",
      "display_name": "Python 3"
    },
    "language_info": {
      "name": "python"
    }
  },
  "cells": [
    {
      "cell_type": "markdown",
      "metadata": {
        "id": "view-in-github",
        "colab_type": "text"
      },
      "source": [
        "<a href=\"https://colab.research.google.com/github/Buzon-coder/QRT-Electricity-price/blob/main/QRT_Electricity_Price2.ipynb\" target=\"_parent\"><img src=\"https://colab.research.google.com/assets/colab-badge.svg\" alt=\"Open In Colab\"/></a>"
      ]
    },
    {
      "cell_type": "code",
      "execution_count": 23,
      "metadata": {
        "colab": {
          "base_uri": "https://localhost:8080/"
        },
        "id": "_5XqUoAcHeDg",
        "outputId": "dae811b8-46da-425e-c6f2-c29c3ca0e516"
      },
      "outputs": [
        {
          "output_type": "stream",
          "name": "stdout",
          "text": [
            "Drive already mounted at /content/drive; to attempt to forcibly remount, call drive.mount(\"/content/drive\", force_remount=True).\n"
          ]
        }
      ],
      "source": [
        "#from google.colab import files\n",
        "#uploaded = files.upload()\n",
        "from google.colab import drive\n",
        "drive.mount('/content/drive')"
      ]
    },
    {
      "cell_type": "code",
      "source": [
        "import pandas as pd\n",
        "import matplotlib.pyplot as plt\n",
        "from scipy.stats import spearmanr, pearsonr"
      ],
      "metadata": {
        "id": "uZwgoIl9Hl4U"
      },
      "execution_count": 24,
      "outputs": []
    },
    {
      "cell_type": "code",
      "source": [
        "X_test = pd.read_csv(\"/content/drive/MyDrive/Colab data/X_test_final.csv\")\n",
        "X_train = pd.read_csv(\"/content/drive/MyDrive/Colab data/X_train_NHkHMNU.csv\")\n",
        "y_train = pd.read_csv(\"/content/drive/MyDrive/Colab data/y_train_ZAN5mwg.csv\")"
      ],
      "metadata": {
        "id": "LvBtQdxgHrjT"
      },
      "execution_count": 25,
      "outputs": []
    },
    {
      "cell_type": "code",
      "source": [
        "common_id = set(X_train[\"ID\"]) & set(X_test[\"ID\"])\n",
        "print(\"Nombre d'ID' en commun entre TRAIN et TEST:\",len(common_id))\n",
        "\n",
        "common_days = set(X_train[\"DAY_ID\"]) & set(X_test[\"DAY_ID\"])\n",
        "print(\"Nombre de jours en commun entre TRAIN et TEST:\",len(common_days))"
      ],
      "metadata": {
        "colab": {
          "base_uri": "https://localhost:8080/"
        },
        "id": "cbXj7LQiHzD3",
        "outputId": "536be0bd-d446-4063-99d5-775667065f91"
      },
      "execution_count": 26,
      "outputs": [
        {
          "output_type": "stream",
          "name": "stdout",
          "text": [
            "Nombre d'ID' en commun entre TRAIN et TEST: 0\n",
            "Nombre de jours en commun entre TRAIN et TEST: 0\n"
          ]
        }
      ]
    },
    {
      "cell_type": "code",
      "source": [
        "# je trie X_train par DAY_ID croissant (donc par dates) et j'aligne les ID de y_train avec ceux de DAY_ID\n",
        "\n",
        "X_train = X_train.sort_values([\"DAY_ID\", \"COUNTRY\"]).reset_index(drop=True)\n",
        "y_train = y_train.set_index(\"ID\").loc[X_train[\"ID\"]].reset_index()\n",
        "assert all(X_train[\"ID\"].values == y_train[\"ID\"].values)\n",
        "print(\"Les ID sont bien alignés avec X_train\")"
      ],
      "metadata": {
        "colab": {
          "base_uri": "https://localhost:8080/"
        },
        "id": "IEdSGopcICIB",
        "outputId": "afbfeafe-ff20-4fad-98c9-42e85e2be437"
      },
      "execution_count": 27,
      "outputs": [
        {
          "output_type": "stream",
          "name": "stdout",
          "text": [
            "Les ID sont bien alignés avec X_train\n"
          ]
        }
      ]
    },
    {
      "cell_type": "code",
      "source": [
        "#print(X_train.head())"
      ],
      "metadata": {
        "id": "AGYiTTUxIE6h"
      },
      "execution_count": 28,
      "outputs": []
    },
    {
      "cell_type": "markdown",
      "source": [
        "J'encode les features de X_train qui ne sont pas des int ou des float (en l'occurence, seul \"COUNTRY\" n'est pas un float ou un int, donc c'est la seule colonne que j'encode)"
      ],
      "metadata": {
        "id": "ZLKQbOI6IPfg"
      }
    },
    {
      "cell_type": "code",
      "source": [
        "##j'encode la colonne COUNTRY en 2 colonnes : COUNTRY_FR et COUNTRY_DE, et je supprime la colonne COUNTRY\n",
        "X_train_encode = X_train.copy()\n",
        "X_train_encode[\"COUNTRY_FR\"] = (X_train_encode[\"COUNTRY\"] == \"FR\").astype(int)\n",
        "X_train_encode[\"COUNTRY_DE\"] = (X_train_encode[\"COUNTRY\"] == \"DE\").astype(int)\n",
        "X_train_encode = X_train_encode.drop(columns = [\"COUNTRY\"])\n",
        "#print(X_train_encode.head())"
      ],
      "metadata": {
        "id": "HMTjXza8IG8N"
      },
      "execution_count": 29,
      "outputs": []
    },
    {
      "cell_type": "markdown",
      "source": [
        "On regarde maintenant les corrélations (en valeur absolue) entre les features et les TARGET"
      ],
      "metadata": {
        "id": "-JHaHJ0eI6b6"
      }
    },
    {
      "cell_type": "code",
      "source": [
        "corrs = X_train_encode.corrwith(y_train[\"TARGET\"], method = 'spearman') # Remarque : la fonction corrwith calcule la corrélation entre les features de X_train et les valeurs TARGET de y_train ligne par ligne\n",
        "                                                                        # Remarque 2 : on utilise la corrélation de Spearman car c'est la corrélation de l'énoncé\n",
        "corrs_abs = corrs.abs().sort_values(ascending=False) # on regarde les valeurs absolues des corrélations des features avec la TARGET. En effet, une corrélation négative mais avec une valeur absolue élevée est aussi une corrélation forte, c'est simplement\n",
        "                                                     # qu'elle agit dans le sens inverse de l'évolution du prix du futures (qd feature augmente, cible diminue, ou l'inverse). exemple : si augmentation du vent, prix diminue car on a + d'électricité\n",
        "#print(corrs_abs.head(20))\n",
        "#print(corrs_abs.tail(18))"
      ],
      "metadata": {
        "id": "U5l3TG9JIhoX"
      },
      "execution_count": 30,
      "outputs": []
    },
    {
      "cell_type": "markdown",
      "source": [
        "J'obtiens que les features les plus corrélées (en valeur absolue) de X_train et avec les TARGET (de y_train) sont par ordre décroissant : DE_NET_IMPORT, DE_NET_EXPORT, DE_WINDPOW, DE_RESIDUAL_LOAD, FR_WINDPOW,DE_HYDRO, DE_GAS, CARBON_RET, DE_WIND, DE_COAL, GAS_RET, FR_HYDRO,FR_WIND, DE_CONSUMPTION, FR_RAIN, FR_DE_EXCHANGE, DE_FR_EXCHANGE, FR_COAL, FR_TEMP, DE_LIGNITE.\n",
        "\n",
        "\n",
        "De même, j'obtiens les features les moins corrélées (en valeur absolue) de X_train avec les TARGET sont (de la plus corrélées à la moins corrélée) : DE_RAIN, DE_SOLAR, FR_SOLAR, FR_CONSUMPTION, ID, COUNTRY_FR, COUNTRY_DE, DE_TEMP, FR_RESIDUAL_LOAD, COAL_RET, FR_GAS, FR_NET_EXPORT, FR_NET_IMPORT, DE_NUCLEAR, DAY_ID, FR_NUCLEAR.\n",
        "\n",
        "Regarder les corrélations permet de comprendre quelles features influencent TARGET, et permet d'interpréter phyisquement le modèle. Ces features représentent les effets dominants."
      ],
      "metadata": {
        "id": "9O6MFtPsJQJF"
      }
    },
    {
      "cell_type": "markdown",
      "source": [
        "Nettoyage des données"
      ],
      "metadata": {
        "id": "sx2RD7IlJYcD"
      }
    },
    {
      "cell_type": "code",
      "source": [
        "# On regarde si les features de X_train_encode contiennent des NaN dans le pays qui leur est associé.\n",
        "# Tout d'abord, on regarde quelles features contiennent des NaN\n",
        "\n",
        "print(X_train_encode.isna().sum())"
      ],
      "metadata": {
        "colab": {
          "base_uri": "https://localhost:8080/"
        },
        "id": "eJ4ZNLlJJIif",
        "outputId": "27c62ce3-5de3-469a-cc03-a29deb072486"
      },
      "execution_count": 31,
      "outputs": [
        {
          "output_type": "stream",
          "name": "stdout",
          "text": [
            "ID                    0\n",
            "DAY_ID                0\n",
            "DE_CONSUMPTION        0\n",
            "FR_CONSUMPTION        0\n",
            "DE_FR_EXCHANGE       25\n",
            "FR_DE_EXCHANGE       25\n",
            "DE_NET_EXPORT       124\n",
            "FR_NET_EXPORT        70\n",
            "DE_NET_IMPORT       124\n",
            "FR_NET_IMPORT        70\n",
            "DE_GAS                0\n",
            "FR_GAS                0\n",
            "DE_COAL               0\n",
            "FR_COAL               0\n",
            "DE_HYDRO              0\n",
            "FR_HYDRO              0\n",
            "DE_NUCLEAR            0\n",
            "FR_NUCLEAR            0\n",
            "DE_SOLAR              0\n",
            "FR_SOLAR              0\n",
            "DE_WINDPOW            0\n",
            "FR_WINDPOW            0\n",
            "DE_LIGNITE            0\n",
            "DE_RESIDUAL_LOAD      0\n",
            "FR_RESIDUAL_LOAD      0\n",
            "DE_RAIN              94\n",
            "FR_RAIN              94\n",
            "DE_WIND              94\n",
            "FR_WIND              94\n",
            "DE_TEMP              94\n",
            "FR_TEMP              94\n",
            "GAS_RET               0\n",
            "COAL_RET              0\n",
            "CARBON_RET            0\n",
            "COUNTRY_FR            0\n",
            "COUNTRY_DE            0\n",
            "dtype: int64\n"
          ]
        }
      ]
    },
    {
      "cell_type": "markdown",
      "source": [
        "je veux voir ce que j'ai à une ligne telle que COUNTRY == \"DE\" et dans la colonne FR_GAS."
      ],
      "metadata": {
        "id": "mftg1oI3RaRz"
      }
    },
    {
      "cell_type": "code",
      "source": [
        "#print(X_train_encode.head())\n",
        "#print(X_train[])\n",
        "day_id_test = X_train[\"DAY_ID\"].value_counts().index[0]\n",
        "print(X_train[\"DAY_ID\"].value_counts())\n",
        "# on voit que le jour 1213 (DAY_ID = 1213) apparaît 2 fois dans le dataset\n",
        "exemple = X_train[X_train[\"DAY_ID\"] == 1213][[\"DAY_ID\", \"FR_GAS\", \"DE_GAS\"]]\n",
        "print(exemple)"
      ],
      "metadata": {
        "colab": {
          "base_uri": "https://localhost:8080/"
        },
        "id": "oHdqdlVaJzIQ",
        "outputId": "b75ade76-be1e-47b5-eb9d-4f701401fde6"
      },
      "execution_count": 32,
      "outputs": [
        {
          "output_type": "stream",
          "name": "stdout",
          "text": [
            "DAY_ID\n",
            "1213    2\n",
            "1184    2\n",
            "1183    2\n",
            "1182    2\n",
            "1181    2\n",
            "       ..\n",
            "1176    1\n",
            "1177    1\n",
            "1186    1\n",
            "0       1\n",
            "1215    1\n",
            "Name: count, Length: 851, dtype: int64\n",
            "      DAY_ID    FR_GAS    DE_GAS\n",
            "1491    1213  1.549682  1.781433\n",
            "1492    1213  1.549682  1.781433\n"
          ]
        }
      ]
    },
    {
      "cell_type": "markdown",
      "source": [
        "--> on voit que la colonne FR_GAS contient 2 fois les mêmes valeurs pour chaque DAY_ID"
      ],
      "metadata": {
        "id": "59bND0M3Umv3"
      }
    },
    {
      "cell_type": "code",
      "source": [],
      "metadata": {
        "id": "_lhy119ZRwXT"
      },
      "execution_count": 32,
      "outputs": []
    }
  ]
}